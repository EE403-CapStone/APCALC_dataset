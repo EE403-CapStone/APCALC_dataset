{
 "cells": [
  {
   "cell_type": "markdown",
   "metadata": {},
   "source": [
    "# metadata: \n",
    "- AP CALC AB\n",
    "- 2016\n",
    "- Q2\n",
    "\n",
    "# Prompt\n",
    "\n",
    "For t>0, a particle moves along the x-axis. The velocity of the particle at time t is given by\n",
    "\n",
    "v(t) = 1+2*sin(t^2/2) The particle is at position x=2 at time t=4.\n",
    "\n",
    "(a) At time t=4, is the particle speeding up or slowing down?\n",
    "\n",
    "(b) Find all times t in the interval 0< t< 3 when the particle changes direction. Justify your answer.\n",
    "\n",
    "(c) Find the position of the particle at time t=0.\n",
    "\n",
    "(d) Find the total distance the particle travels from time t=0 to time t=3."
   ]
  },
  {
   "attachments": {},
   "cell_type": "markdown",
   "metadata": {},
   "source": [
    "## Conversation\n",
    "\n",
    "User: how to determine the particle is increasing, decreasing or neither ?\n",
    "\n",
    "Mathilda: calculate the answer for velocity and acceleration at t. if the velocity and acceleration have opposite sign, the particle is decreasing. If the velocity and acceleration have the same sign, the object is increasing."
   ]
  },
  {
   "attachments": {},
   "cell_type": "markdown",
   "metadata": {},
   "source": [
    "## Conversation\n",
    "\n",
    "User: how to find the time when particle changes direction?\n",
    "\n",
    "Mathilda: set V(t) = 0 , and calcualte the t."
   ]
  },
  {
   "attachments": {},
   "cell_type": "markdown",
   "metadata": {},
   "source": [
    "## Conversation\n",
    "\n",
    "User: how to find the position of the particle at time t in part(c)?\n",
    "\n",
    "Mathilda: set x(t) = x(4) + integral(t-4)[v(t)dt], and calculate."
   ]
  },
  {
   "attachments": {},
   "cell_type": "markdown",
   "metadata": {},
   "source": [
    "## Conversation\n",
    "\n",
    "User: how to find the total distance with the velocity function in the interval a and b.\n",
    "\n",
    "Mathilda: integral of the speed function in the interval of a and b."
   ]
  }
 ],
 "metadata": {
  "kernelspec": {
   "display_name": "Python 3.10.8 64-bit (microsoft store)",
   "language": "python",
   "name": "python3"
  },
  "language_info": {
   "name": "python",
   "version": "3.10.8"
  },
  "orig_nbformat": 4,
  "vscode": {
   "interpreter": {
    "hash": "7536d7b229462f4296d4c0dae49c3bd6cd3990c783d6b9d88ce3c31a78605890"
   }
  }
 },
 "nbformat": 4,
 "nbformat_minor": 2
}
