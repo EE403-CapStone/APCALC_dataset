{
 "cells": [
  {
   "cell_type": "markdown",
   "metadata": {},
   "source": [
    "# metadata: \n",
    "- AP CALC AB\n",
    "- 2016\n",
    "- Q2\n",
    "\n",
    "# Prompt\n",
    "\n",
    "For t>0, a particle moves along the x-axis. The velocity of the particle at time t is given by\n",
    "\n",
    "v(t) = 1+2*sin(t^2/2) The particle is at position x=2 at time t=4.\n",
    "\n",
    "(a) At time t=4, is the particle speeding up or slowing down?\n",
    "\n",
    "(b) Find all times t in the interval 0< t< 3 when the particle changes direction. Justify your answer.\n",
    "\n",
    "(c) Find the position of the particle at time t=0.\n",
    "\n",
    "(d) Find the total distance the particle travels from time t=0 to time t=3."
   ]
  }
 ],
 "metadata": {
  "kernelspec": {
   "display_name": "Python 3.8.2 64-bit",
   "language": "python",
   "name": "python3"
  },
  "language_info": {
   "name": "python",
   "version": "3.8.2"
  },
  "orig_nbformat": 4,
  "vscode": {
   "interpreter": {
    "hash": "31f2aee4e71d21fbe5cf8b01ff0e069b9275f58929596ceb00d14d90e3e16cd6"
   }
  }
 },
 "nbformat": 4,
 "nbformat_minor": 2
}
