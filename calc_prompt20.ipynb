{
 "cells": [
  {
   "cell_type": "markdown",
   "metadata": {},
   "source": [
    "# metadata: \n",
    "- AP CALC AB\n",
    "- 2016\n",
    "- Q2\n",
    "\n",
    "# Prompt\n",
    "\n",
    "For t  0, a particle moves along the x-axis. The velocity of the particle at time t is given by\n",
    "\u000b \f\n",
    "2\n",
    "1 2sin 2\n",
    "t v t È \u000e É\n",
    "Ê\n",
    "Ø\n",
    "Ù\n",
    "Ú\n",
    ". The particle is at position x 2 at time t 4.\n",
    "(a) At time t 4, is the particle speeding up or slowing down?\n",
    "(b) Find all times t in the interval 0 \u001f \u001f t 3 when the particle changes direction. Justify your answer.\n",
    "(c) Find the position of the particle at time t 0.\n",
    "(d) Find the total distance the particle travels from time t 0 to time t 3."
   ]
  }
 ],
 "metadata": {
  "language_info": {
   "name": "python"
  },
  "orig_nbformat": 4
 },
 "nbformat": 4,
 "nbformat_minor": 2
}
