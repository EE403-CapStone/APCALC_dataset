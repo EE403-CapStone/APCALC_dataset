{
 "cells": [
  {
   "cell_type": "markdown",
   "metadata": {},
   "source": [
    "# metadata: \n",
    "- AP CALC AB\n",
    "- 2016\n",
    "- Q2\n",
    "\n",
    "# Prompt\n",
    "\n",
    "For t>0, a particle moves along the x-axis. The velocity of the particle at time t is given by\n",
    "\n",
    "v(t) = 1+2*sin(t^2/2) The particle is at position x=2 at time t=4.\n",
    "\n",
    "(a) At time t=4, is the particle speeding up or slowing down?\n",
    "\n",
    "(b) Find all times t in the interval 0< t< 3 when the particle changes direction. Justify your answer.\n",
    "\n",
    "(c) Find the position of the particle at time t=0.\n",
    "\n",
    "(d) Find the total distance the particle travels from time t=0 to time t=3."
   ]
  }
 ],
 "metadata": {
  "language_info": {
   "name": "python"
  },
  "orig_nbformat": 4
 },
 "nbformat": 4,
 "nbformat_minor": 2
}
