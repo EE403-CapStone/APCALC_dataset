{
 "cells": [
  {
   "attachments": {},
   "cell_type": "markdown",
   "metadata": {},
   "source": [
    "# metadata: \n",
    "- AP CALC AB\n",
    "- 2010\n",
    "- Q6\n",
    "\n",
    "# Prompt\n",
    "\n",
    "Solutions to the differential equation dy 3 xy dx = also satisfy ( )\n",
    "2\n",
    "3 22\n",
    "2 13 . d y y xy dx\n",
    "= + Let y fx = ( ) be a \n",
    "particular solution to the differential equation dy 3 xy dx = with f ( ) 1 2. =\n",
    "\n",
    "(a) Write an equation for the line tangent to the graph of y fx = ( ) at 1. x =\n",
    "\n",
    "(b) Use the tangent line equation from part (a) to approximate f ( ) 1.1 . Given that f x( ) > 0 for 1 1.1, < < x is \n",
    "the approximation for f ( ) 1.1 greater than or less than f ( ) 1.1 ? Explain your reasoning. \n",
    "\n",
    "(c) Find the particular solution y fx = ( ) with initial condition f ( ) 1 2."
   ]
  }
 ],
 "metadata": {
  "kernelspec": {
   "display_name": "Python 3.10.8 64-bit (microsoft store)",
   "language": "python",
   "name": "python3"
  },
  "language_info": {
   "name": "python",
   "version": "3.10.8"
  },
  "orig_nbformat": 4,
  "vscode": {
   "interpreter": {
    "hash": "7536d7b229462f4296d4c0dae49c3bd6cd3990c783d6b9d88ce3c31a78605890"
   }
  }
 },
 "nbformat": 4,
 "nbformat_minor": 2
}
