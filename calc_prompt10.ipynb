{
 "cells": [
  {
   "cell_type": "markdown",
   "metadata": {},
   "source": [
    "# metadata: \n",
    "- AP CALC AB\n",
    "- 2018\n",
    "- Q1\n",
    "\n",
    "# Prompt\n",
    "People enter a line for an escalator at a rate modeled by the function r given by\n",
    "\n",
    "r(t) = 44*(t/100)^3*(1-t/300)^7  0< t <300\n",
    "\n",
    "r(t)  = 0 t>300\n",
    "\n",
    "where r(t) is measured in people per second and t is measured in seconds. As people get on the escalator,\n",
    "they exit the line at a constant rate of 0.7 person per second. There are 20 people in line at time t = 0.\n",
    "\n",
    "(a) How many people enter the line for the escalator during the time interval 0< t <300 ?\n",
    "\n",
    "(b) During the time interval 0< t <300, there are always people in line for the escalator. How many people\n",
    "are in line at time t = 300 ?\n",
    "\n",
    "(c) For t > 300, what is the first time t that there are no people in line for the escalator?\n",
    "\n",
    "(d) For 0< t <300, at what time t is the number of people in line a minimum? To the nearest whole number, find the number of people in line at this time. Justify your answer. "
   ]
  }
 ],
 "metadata": {
  "kernelspec": {
   "display_name": "Python 3.8.2 64-bit",
   "language": "python",
   "name": "python3"
  },
  "language_info": {
   "name": "python",
   "version": "3.8.2"
  },
  "orig_nbformat": 4,
  "vscode": {
   "interpreter": {
    "hash": "31f2aee4e71d21fbe5cf8b01ff0e069b9275f58929596ceb00d14d90e3e16cd6"
   }
  }
 },
 "nbformat": 4,
 "nbformat_minor": 2
}
