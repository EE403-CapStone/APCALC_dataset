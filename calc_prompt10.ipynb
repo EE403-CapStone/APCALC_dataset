{
 "cells": [
  {
   "cell_type": "markdown",
   "metadata": {},
   "source": [
    "# metadata: \n",
    "- AP CALC AB\n",
    "- 2018\n",
    "- Q1\n",
    "\n",
    "# Prompt\n",
    ". People enter a line for an escalator at a rate modeled by the function r given by\n",
    "\n",
    "r(t) = 44*(t/100)^38(1-t/300)^7  0\\< t \\<300\n",
    "\n",
    "r(t)  = 0 t>300\n",
    "\n",
    "where r t( ) is measured in people per second and t is measured in seconds. As people get on the escalator,\n",
    "they exit the line at a constant rate of 0.7 person per second. There are 20 people in line at time t = 0.\n",
    "(a) How many people enter the line for the escalator during the time interval 0 £ £t 300 ?\n",
    "(b) During the time interval 0 £ £t 300, there are always people in line for the escalator. How many people\n",
    "are in line at time t = 300 ?\n",
    "(c) For t > 300, what is the first time t that there are no people in line for the escalator?\n",
    "(d) For 0 £ £t 300, at what time t is the number of people in line a minimum? To the nearest whole\n",
    "number, find the number of people in line at this time. Justify your answer. "
   ]
  }
 ],
 "metadata": {
  "language_info": {
   "name": "python"
  },
  "orig_nbformat": 4
 },
 "nbformat": 4,
 "nbformat_minor": 2
}
