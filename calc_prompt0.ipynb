{
 "cells": [
  {
   "cell_type": "markdown",
   "metadata": {},
   "source": [
    "# metadata: \n",
    "- AP CALC AB\n",
    "- 2021\n",
    "- Q1\n",
    "\n",
    "# Prompt\n",
    "\n",
    "r : [0, 1, 2, 2.5, 4]\n",
    "\n",
    "f(r): [1, 2, 6, 10, 18]\n",
    "\n",
    "1. The density of a bacteria population in a circular petri dish at a distance r centimeters from the center of the\n",
    "dish is given by an increasing, differentiable function f , where f r( ) is measured in milligrams per square\n",
    "centimeter. Values of f r( ) for selected values of r are given in the table above.\n",
    "(a) Use the data in the table to estimate f ¢(2.25). Using correct units, interpret the meaning of your answer\n",
    "in the context of this problem.\n",
    "(b) The total mass, in milligrams, of bacteria in the petri dish is given by the integral expression\n",
    "4\n",
    "2p r f r( ) dr ∫0 . Approximate the value of\n",
    "4\n",
    "2p ∫ r f r( ) dr\n",
    "0 using a right Riemann sum with the four\n",
    "subintervals indicated by the data in the table.\n",
    "(c) Is the approximation found in part (b) an overestimate or underestimate of the total mass of bacteria in the\n",
    "petri dish? Explain your reasoning.\n",
    "(d) The density of bacteria in the petri dish, for 1 £ r £ 4, is modeled by the function g defined by\n",
    "gr 2 − 16(cos(1.57 r) 3 ( ) = ) . For what value of k , 1 < k < 4, is g k( ) equal to the average value of g r( )\n",
    "on the interval 1 £ r £ 4 ? "
   ]
  }
 ],
 "metadata": {
  "kernelspec": {
   "display_name": "Python 3.9.13 64-bit (microsoft store)",
   "language": "python",
   "name": "python3"
  },
  "language_info": {
   "name": "python",
   "version": "3.9.13"
  },
  "orig_nbformat": 4,
  "vscode": {
   "interpreter": {
    "hash": "260dee7956bb90417b93d15a48640bfb34c75f27c1c396b243529dc297b6d7ef"
   }
  }
 },
 "nbformat": 4,
 "nbformat_minor": 2
}
