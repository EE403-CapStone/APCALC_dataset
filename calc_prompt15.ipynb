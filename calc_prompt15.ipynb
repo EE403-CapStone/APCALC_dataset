{
 "cells": [
  {
   "cell_type": "markdown",
   "metadata": {},
   "source": [
    "# metadata: \n",
    "- AP CALC AB\n",
    "- 2017\n",
    "- Q1\n",
    "\n",
    "# Prompt\n",
    "\n",
    "h = [0, 2, 5, 10]\n",
    "\n",
    "A(h) = [50.3, 14.4, 6.5, 2.9]\n",
    "\n",
    "A tank has a height of 10 feet. The area of the horizontal cross section of the tank at height h feet is given by the function A, where A(h) is measured in square feet. The function A is continuous and decreases as h increases. Selected values for A(h) are given in the table above.\n",
    "\n",
    "(a) Use a left Riemann sum with the three subintervals indicated by the data in the table to approximate the volume of the tank. Indicate units of measure.\n",
    "\n",
    "(b) Does the approximation in part (a) overestimate or underestimate the volume of the tank? Explain yor reasoning.\n",
    "\n",
    "(c)\t The area, in square feet, of the horizontal cross section at height h feet is modeled by the function f given by f(h) = 50.3/(e^(.2*h)+h). Based on this model, find the volume of the tank. Indicate units of measure.\n",
    "\n",
    "(d) Water is pumped into the tank. When the height of the water is 5 feet, the height is increasing at the rate of 0.26 foot per minute. Using the model from part (c), find the rate at which the volume of water is changing with respect to time when the height of the water is 5 feet. Indicate units of measure. "
   ]
  },
  {
   "attachments": {},
   "cell_type": "markdown",
   "metadata": {},
   "source": [
    "## Conversation\n",
    "\n",
    "User: What is the definition of Riemann sum?\n",
    "\n",
    "Mathilda: a Riemann sum is a certain kind of approximation of an integral by a finite sum."
   ]
  },
  {
   "attachments": {},
   "cell_type": "markdown",
   "metadata": {},
   "source": [
    "## Conversation\n",
    "\n",
    "User: how to choose between overestimate or underestimate?\n",
    "\n",
    "Mathilda: When the direction is increasing and Left Riemann sum, it is Underestimation.\n",
    "When the direction is increasing and Right Riemann sum, it is Overestimation.\n",
    "When the direction is decreasing and Left Riemann sum, it is Overestimation.\n",
    "When the direction is decreasing and Right Riemann sum, it is Underestimation."
   ]
  },
  {
   "attachments": {},
   "cell_type": "markdown",
   "metadata": {},
   "source": [
    "## Conversation\n",
    "\n",
    "User: How to find the volume in part(c) if we have the interval and function?\n",
    "\n",
    "Mathilda: Find the integral of function between the interval."
   ]
  },
  {
   "attachments": {},
   "cell_type": "markdown",
   "metadata": {},
   "source": [
    "## Conversation\n",
    "\n",
    "User: how to find the rate when we have the model,changing speed in part(d)?\n",
    "\n",
    "Mathilda: We use the function V(h) = integral(h-0)[f(x)dx]"
   ]
  }
 ],
 "metadata": {
  "kernelspec": {
   "display_name": "Python 3.9.13 64-bit (microsoft store)",
   "language": "python",
   "name": "python3"
  },
  "language_info": {
   "name": "python",
   "version": "3.9.13"
  },
  "orig_nbformat": 4,
  "vscode": {
   "interpreter": {
    "hash": "260dee7956bb90417b93d15a48640bfb34c75f27c1c396b243529dc297b6d7ef"
   }
  }
 },
 "nbformat": 4,
 "nbformat_minor": 2
}
