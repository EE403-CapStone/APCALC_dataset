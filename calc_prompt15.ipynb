{
 "cells": [
  {
   "cell_type": "markdown",
   "metadata": {},
   "source": [
    "# metadata: \n",
    "- AP CALC AB\n",
    "- 2017\n",
    "- Q1\n",
    "\n",
    "# Prompt\n",
    "\n",
    "h = [0, 2, 5, 10]\n",
    "\n",
    "A(h) = [50.3, 14.4, 6.5, 2.9]\n",
    "\n",
    "A tank has a height of 10 feet. The area of the horizontal cross section of the tank at height h feet is given by\n",
    "the function A, where A h( ) is measured in square feet. The function A is continuous and decreases as h\n",
    "increases. Selected values for A h( ) are given in the table above.\n",
    "(a) Use a left Riemann sum with the three subintervals indicated by the data in the table to approximate the\n",
    "volume of the tank. Indicate units of measure.\n",
    "(b) Does the approximation in part (a) overestimate or underestimate the volume of the tank? Explain your\n",
    "reasoning.\n",
    "(c)\t The area, in square feet, of the horizontal cross section at height h feet is modeled by the function f given\n",
    "by . Based on this model, find the volume of the tank. Indicate units of measure.\n",
    "(d) Water is pumped into the tank. When the height of the water is 5 feet, the height is increasing at the rate\n",
    "of 0.26 foot per minute. Using the model from part (c), find the rate at which the volume of water is\n",
    "changing with respect to time when the height of the water is 5 feet. Indicate units of measure. "
   ]
  }
 ],
 "metadata": {
  "kernelspec": {
   "display_name": "Python 3.9.13 64-bit (microsoft store)",
   "language": "python",
   "name": "python3"
  },
  "language_info": {
   "name": "python",
   "version": "3.9.13"
  },
  "orig_nbformat": 4,
  "vscode": {
   "interpreter": {
    "hash": "260dee7956bb90417b93d15a48640bfb34c75f27c1c396b243529dc297b6d7ef"
   }
  }
 },
 "nbformat": 4,
 "nbformat_minor": 2
}
