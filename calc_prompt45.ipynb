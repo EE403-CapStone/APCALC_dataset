{
 "cells": [
  {
   "attachments": {},
   "cell_type": "markdown",
   "metadata": {},
   "source": [
    "# metadata: \n",
    "- AP CALC AB\n",
    "- 2010 B\n",
    "- Q6\n",
    "\n",
    "# Prompt\n",
    "\n",
    "Two particles move along the x-axis. For 0 6, ≤ ≤t the position of particle P at time t is given by \n",
    "( ) ( ) 2cos , 4 p t t π = while the position of particle R at time t is given by ( ) 3 2 rt t t t =− ++ 6 9 3.\n",
    "\n",
    "(a) For 0 6, ≤ ≤t find all times t during which particle R is moving to the right. \n",
    "\n",
    "(b) For 0 6, ≤ ≤t find all times t during which the two particles travel in opposite directions. \n",
    "\n",
    "(c) Find the acceleration of particle P at time 3. t = Is particle P speeding up, slowing down, or doing neither at \n",
    "time 3 ? t = Explain your reasoning. \n",
    "\n",
    "(d) Write, but do not evaluate, an expression for the average distance between the two particles on the interval \n",
    "1 3.\n"
   ]
  }
 ],
 "metadata": {
  "kernelspec": {
   "display_name": "Python 3.10.8 64-bit (microsoft store)",
   "language": "python",
   "name": "python3"
  },
  "language_info": {
   "name": "python",
   "version": "3.10.8"
  },
  "orig_nbformat": 4,
  "vscode": {
   "interpreter": {
    "hash": "7536d7b229462f4296d4c0dae49c3bd6cd3990c783d6b9d88ce3c31a78605890"
   }
  }
 },
 "nbformat": 4,
 "nbformat_minor": 2
}
