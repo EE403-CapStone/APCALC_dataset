{
 "cells": [
  {
   "attachments": {},
   "cell_type": "markdown",
   "metadata": {},
   "source": [
    "# metadata: \n",
    "- AP CALC AB\n",
    "- 2010 B\n",
    "- Q6\n",
    "\n",
    "# Prompt\n",
    "\n",
    "Two particles move along the x-axis. For 0<=t<=6 the position of particle P at time t is given by p(t) = 2*cos(pi/4*t) while the position of particle R at time t is given by r(t)=t^3-6*t^2+9*t+3.\n",
    "\n",
    "(a) For 0<=t<=6 find all times t during which particle R is moving to the right. \n",
    "\n",
    "(b) For 0<=t<=6 find all times t during which the two particles travel in opposite directions. \n",
    "\n",
    "(c) Find the acceleration of particle P at time t=3. Is particle P speeding up, slowing down, or doing neither at time t=3? Explain your reasoning. \n",
    "\n",
    "(d) Write, but do not evaluate, an expression for the average distance between the two particles on the interval 1<=t<=3. \n"
   ]
  }
 ],
 "metadata": {
  "kernelspec": {
   "display_name": "Python 3.8.2 64-bit",
   "language": "python",
   "name": "python3"
  },
  "language_info": {
   "name": "python",
   "version": "3.8.2"
  },
  "orig_nbformat": 4,
  "vscode": {
   "interpreter": {
    "hash": "31f2aee4e71d21fbe5cf8b01ff0e069b9275f58929596ceb00d14d90e3e16cd6"
   }
  }
 },
 "nbformat": 4,
 "nbformat_minor": 2
}
