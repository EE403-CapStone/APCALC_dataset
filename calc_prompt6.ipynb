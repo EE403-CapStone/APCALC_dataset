{
 "cells": [
  {
   "cell_type": "markdown",
   "metadata": {},
   "source": [
    "# metadata: \n",
    "- AP CALC AB\n",
    "- 2019\n",
    "- Q2\n",
    "\n",
    "# Prompt\n",
    "t = [0, .3, 1.7, 2.8, 4]\n",
    "\n",
    "v = [0, 55, -29, 55, 48]\n",
    "\n",
    "\n",
    "The velocity of a particle, P, moving along the x-axis is given by the differentiable function Pv , where P v t( )\n",
    "is measured in meters per hour and t is measured in hours. Selected values of v t( ) P are shown in the table\n",
    "above. Particle P is at the origin at time t = 0.\n",
    "(a) Justify why there must be at least one time t, for 0.3 £ £t 2.8, at which v ¢( P t), the acceleration of\n",
    "particle P, equals 0 meters per hour per hour.\n",
    "(b) Use a trapezoidal sum with the three subintervals [0, 0.3], [0.3, 1.7], and [1.7, 2.8] to approximate the\n",
    "value of v t dt\n",
    "2.8 ∫0 P() .\n",
    "(c) A second particle, Q, also moves along the x-axis so that its velocity for 0 £ £t 4 is given by\n",
    "Q t cos 0.063 ( ) t\n",
    "2 v t( ) = 45 meters per hour. Find the time interval during which the velocity of particle Q\n",
    "is at least 60 meters per hour. Find the distance traveled by particle Q during the interval when the\n",
    "velocity of particle Q is at least 60 meters per hour.\n",
    "(d) At time t = 0, particle Q is at position x = −90. Using the result from part (b) and the function vQ from\n",
    "part (c), approximate the distance between particles P and Q at time t = 2.8."
   ]
  }
 ],
 "metadata": {
  "language_info": {
   "name": "python"
  },
  "orig_nbformat": 4
 },
 "nbformat": 4,
 "nbformat_minor": 2
}
