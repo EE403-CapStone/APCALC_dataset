{
 "cells": [
  {
   "cell_type": "code",
   "execution_count": null,
   "metadata": {},
   "outputs": [],
   "source": []
  },
  {
   "attachments": {},
   "cell_type": "markdown",
   "metadata": {},
   "source": [
    "# metadata: \n",
    "- AP CALC AB\n",
    "- 2013\n",
    "- Q1\n",
    "\n",
    "# Prompt\n",
    "\n",
    "On a certain workday, the rate, in tons per hour, at which unprocessed gravel arrives at a gravel processing plant \n",
    "is modeled by  \n",
    "2\n",
    "90 45cos , 18\n",
    "t G t  \n",
    "      where t is measured in hours and 0 8.  t  At the beginning of the \n",
    "workday   t  0 , the plant has 500 tons of unprocessed gravel. During the hours of operation, 0 8,  t the \n",
    "plant processes gravel at a constant rate of 100 tons per hour. \n",
    "\n",
    "(a) Find G  5 . Using correct units, interpret your answer in the context of the problem. \n",
    "\n",
    "(b) Find the total amount of unprocessed gravel that arrives at the plant during the hours of operation on this \n",
    "workday. \n",
    "\n",
    "(c) Is the amount of unprocessed gravel at the plant increasing or decreasing at time t  5 hours? Show the \n",
    "work that leads to your answer. \n",
    "\n",
    "(d) What is the maximum amount of unprocessed gravel at the plant during the hours of operation on this \n",
    "workday? Justify your answer."
   ]
  }
 ],
 "metadata": {
  "language_info": {
   "name": "python"
  },
  "orig_nbformat": 4
 },
 "nbformat": 4,
 "nbformat_minor": 2
}
