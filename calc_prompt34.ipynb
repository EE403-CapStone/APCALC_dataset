{
 "cells": [
  {
   "attachments": {},
   "cell_type": "markdown",
   "metadata": {},
   "source": [
    "# metadata: \n",
    "- AP CALC AB\n",
    "- 2013\n",
    "- Q1\n",
    "\n",
    "# Prompt\n",
    "\n",
    "On a certain workday, the rate, in tons per hour, at which unprocessed gravel arrives at a gravel processing plant is modeled by G(t)=90+45*cos(t^2/18) where t is measured in hours and 0<=t<=8. At the beginning of the workday (t=0) , the plant has 500 tons of unprocessed gravel. During the hours of operation, 0<= t<=8  the plant processes gravel at a constant rate of 100 tons per hour. \n",
    "\n",
    "(a) Find G'(5). Using correct units, interpret your answer in the context of the problem. \n",
    "\n",
    "(b) Find the total amount of unprocessed gravel that arrives at the plant during the hours of operation on this workday. \n",
    "\n",
    "(c) Is the amount of unprocessed gravel at the plant increasing or decreasing at time t = 5 hours? Show the work that leads to your answer. \n",
    "\n",
    "(d) What is the maximum amount of unprocessed gravel at the plant during the hours of operation on this workday? Justify your answer."
   ]
  }
 ],
 "metadata": {
  "kernelspec": {
   "display_name": "Python 3.8.2 64-bit",
   "language": "python",
   "name": "python3"
  },
  "language_info": {
   "name": "python",
   "version": "3.8.2"
  },
  "orig_nbformat": 4,
  "vscode": {
   "interpreter": {
    "hash": "31f2aee4e71d21fbe5cf8b01ff0e069b9275f58929596ceb00d14d90e3e16cd6"
   }
  }
 },
 "nbformat": 4,
 "nbformat_minor": 2
}
