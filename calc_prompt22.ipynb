{
 "cells": [
  {
   "cell_type": "markdown",
   "metadata": {},
   "source": [
    "# metadata: \n",
    "- AP CALC AB\n",
    "- 2016\n",
    "- Q5\n",
    "\n",
    "# Prompt\n",
    "\n",
    "The inside of a funnel of height 10 inches has circular cross sections, as shown in the figure above. At height h,\n",
    "the radius of the funnel is given by \u000b \f 1 2 3 20 r \u000e h , where 0   h 10. The units of r and h are inches.\n",
    "(a) Find the average value of the radius of the funnel.\n",
    "(b) Find the volume of the funnel.\n",
    "(c) The funnel contains liquid that is draining from the bottom. At the instant when the height of the liquid is\n",
    "h 3 inches, the radius of the surface of the liquid is decreasing at a rate of 1\n",
    "5 inch per second. At this\n",
    "instant, what is the rate of change of the height of the liquid with respect to time?"
   ]
  }
 ],
 "metadata": {
  "kernelspec": {
   "display_name": "Python 3.9.13 64-bit (microsoft store)",
   "language": "python",
   "name": "python3"
  },
  "language_info": {
   "name": "python",
   "version": "3.9.13"
  },
  "orig_nbformat": 4,
  "vscode": {
   "interpreter": {
    "hash": "260dee7956bb90417b93d15a48640bfb34c75f27c1c396b243529dc297b6d7ef"
   }
  }
 },
 "nbformat": 4,
 "nbformat_minor": 2
}
