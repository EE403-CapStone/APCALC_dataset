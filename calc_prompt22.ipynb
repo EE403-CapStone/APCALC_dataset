{
 "cells": [
  {
   "cell_type": "markdown",
   "metadata": {},
   "source": [
    "# metadata: \n",
    "- AP CALC AB\n",
    "- 2016\n",
    "- Q5\n",
    "\n",
    "# Prompt\n",
    "\n",
    "The inside of a funnel of height 10 inches has circular cross sections. At height h, the radius of the funnel is given by r=1/20*(3+h^2) , where 0< h < 10. The units of r and h are inches.\n",
    "\n",
    "(a) Find the average value of the radius of the funnel.\n",
    "\n",
    "(b) Find the volume of the funnel.\n",
    "\n",
    "(c) The funnel contains liquid that is draining from the bottom. At the instant when the height of the liquid is h 3 inches, the radius of the surface of the liquid is decreasing at a rate of  5 inch per second. At this instant, what is the rate of change of the height of the liquid with respect to time?"
   ]
  }
 ],
 "metadata": {
  "kernelspec": {
   "display_name": "Python 3.8.2 64-bit",
   "language": "python",
   "name": "python3"
  },
  "language_info": {
   "name": "python",
   "version": "3.8.2"
  },
  "orig_nbformat": 4,
  "vscode": {
   "interpreter": {
    "hash": "31f2aee4e71d21fbe5cf8b01ff0e069b9275f58929596ceb00d14d90e3e16cd6"
   }
  }
 },
 "nbformat": 4,
 "nbformat_minor": 2
}
