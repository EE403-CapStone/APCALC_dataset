{
 "cells": [
  {
   "attachments": {},
   "cell_type": "markdown",
   "metadata": {},
   "source": [
    "# metadata: \n",
    "- AP CALC AB\n",
    "- 2010\n",
    "- Q1\n",
    "\n",
    "# Prompt\n",
    "\n",
    "There is no snow on Janet’s driveway when snow begins to fall at midnight. From midnight to 9 A.M., snow accumulates on the driveway at a rate modeled by f(t)=7*t*e^(cos(t)) cubic feet per hour, where t is measured in hours since midnight. Janet starts removing snow at 6 A.M. (t = 6) . The rate g(t), in cubic feet per hour, at which Janet removes snow from the driveway at time t hours after midnight is modeled by \n",
    "\n",
    "g(t) = 0, for 0 ≤ t ≤ 6\n",
    "g(t) = 125, for 6 ≤ t ≤ 7\n",
    "g(t) = 108, for 7 ≤ t ≤ 9\n",
    "\n",
    "(a) How many cubic feet of snow have accumulated on the driveway by 6 A.M.? \n",
    "\n",
    "(b) Find the rate of change of the volume of snow on the driveway at 8 A.M. \n",
    "\n",
    "(c) Let h(t) represent the total amount of snow, in cubic feet, that Janet has removed from the driveway at time t hours after midnight. Express h as a piecewise-defined function with domain 0 <= t <= 9.\n",
    "\n",
    "(d) How many cubic feet of snow are on the driveway at 9 A.M.? \n"
   ]
  }
 ],
 "metadata": {
  "kernelspec": {
   "display_name": "Python 3.10.8 64-bit (microsoft store)",
   "language": "python",
   "name": "python3"
  },
  "language_info": {
   "codemirror_mode": {
    "name": "ipython",
    "version": 3
   },
   "file_extension": ".py",
   "mimetype": "text/x-python",
   "name": "python",
   "nbconvert_exporter": "python",
   "pygments_lexer": "ipython3",
   "version": "3.10.8"
  },
  "orig_nbformat": 4,
  "vscode": {
   "interpreter": {
    "hash": "7536d7b229462f4296d4c0dae49c3bd6cd3990c783d6b9d88ce3c31a78605890"
   }
  }
 },
 "nbformat": 4,
 "nbformat_minor": 2
}
