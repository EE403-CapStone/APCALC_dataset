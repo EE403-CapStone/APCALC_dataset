{
 "cells": [
  {
   "cell_type": "code",
   "execution_count": null,
   "metadata": {},
   "outputs": [],
   "source": []
  },
  {
   "attachments": {},
   "cell_type": "markdown",
   "metadata": {},
   "source": [
    "# metadata: \n",
    "- AP CALC AB\n",
    "- 2011 B\n",
    "- Q4\n",
    "\n",
    "# Prompt\n",
    "\n",
    "Consider a differentiable function f having domain all positive real numbers, and for which it is known that \n",
    "() ( ) 3 f x xx 4 − ′ = − for x > 0.\n",
    "\n",
    "(a) Find the x-coordinate of the critical point of f. Determine whether the point is a relative maximum, a \n",
    "relative minimum, or neither for the function f. Justify your answer. \n",
    "\n",
    "(b) Find all intervals on which the graph of f is concave down. Justify your answer. \n",
    "\n",
    "(c) Given that f (1 2, ) = determine the function f. "
   ]
  }
 ],
 "metadata": {
  "kernelspec": {
   "display_name": "Python 3.10.8 64-bit (microsoft store)",
   "language": "python",
   "name": "python3"
  },
  "language_info": {
   "name": "python",
   "version": "3.10.8"
  },
  "orig_nbformat": 4,
  "vscode": {
   "interpreter": {
    "hash": "7536d7b229462f4296d4c0dae49c3bd6cd3990c783d6b9d88ce3c31a78605890"
   }
  }
 },
 "nbformat": 4,
 "nbformat_minor": 2
}
