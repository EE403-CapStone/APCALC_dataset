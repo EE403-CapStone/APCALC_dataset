{
 "cells": [
  {
   "cell_type": "markdown",
   "metadata": {},
   "source": [
    "# metadata: \n",
    "- AP CALC AB\n",
    "- 2021\n",
    "- Q5\n",
    "\n",
    "# Prompt\n",
    "Consider the function y = f(x) whose curve is given by the equation 2y^2−6 =y*sin(x) for y > 0.\n",
    "\n",
    "(a) Show that dy/dx =  y*cos(x)/(4*y-sin(x))\n",
    "\n",
    "(b) Write an equation for the line tangent to the curve at the point (0, (3)^(1/2)).\n",
    "\n",
    "(c) For 0< x < pi and y > 0, find the coordinates of the point where the line tangent to the curve is\n",
    "horizontal.\n",
    "\n",
    "(d) Determine whether f has a relative minimum, a relative maximum, or neither at the point found in\n",
    "part (c). Justify your answer. "
   ]
  }
 ],
 "metadata": {
  "kernelspec": {
   "display_name": "Python 3.9.13 64-bit (microsoft store)",
   "language": "python",
   "name": "python3"
  },
  "language_info": {
   "name": "python",
   "version": "3.9.13"
  },
  "orig_nbformat": 4,
  "vscode": {
   "interpreter": {
    "hash": "260dee7956bb90417b93d15a48640bfb34c75f27c1c396b243529dc297b6d7ef"
   }
  }
 },
 "nbformat": 4,
 "nbformat_minor": 2
}
