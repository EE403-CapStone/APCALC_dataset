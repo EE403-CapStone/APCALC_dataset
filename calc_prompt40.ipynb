{
 "cells": [
  {
   "cell_type": "code",
   "execution_count": null,
   "metadata": {},
   "outputs": [],
   "source": []
  },
  {
   "attachments": {},
   "cell_type": "markdown",
   "metadata": {},
   "source": [
    "# metadata: \n",
    "- AP CALC AB\n",
    "- 2011 B\n",
    "- Q2\n",
    "\n",
    "# Prompt\n",
    "\n",
    "A 12,000-liter tank of water is filled to capacity. At time t = 0, water begins to drain out of the tank at a rate \n",
    "modeled by r t( ), measured in liters per hour, where r is given by the piecewise-defined function \n",
    "( )\n",
    "0.2\n",
    "600 f or 0 5 3\n",
    "1000 for 5 t\n",
    "t t\n",
    "r t t\n",
    "e t −\n",
    "⎧\n",
    "⎪ ≤ ≤ = + ⎨\n",
    "⎪⎩ >\n",
    "\n",
    "(a) Is r continuous at t = 5 ? Show the work that leads to your answer. \n",
    "\n",
    "(b) Find the average rate at which water is draining from the tank between time t = 0 and time 8 t = hours. \n",
    "\n",
    "(c) Find r′( ) 3 . Using correct units, explain the meaning of that value in the context of this problem. \n",
    "\n",
    "(d) Write, but do not solve, an equation involving an integral to find the time A when the amount of water in \n",
    "the tank is 9000 liters."
   ]
  }
 ],
 "metadata": {
  "kernelspec": {
   "display_name": "Python 3.10.8 64-bit (microsoft store)",
   "language": "python",
   "name": "python3"
  },
  "language_info": {
   "name": "python",
   "version": "3.10.8"
  },
  "orig_nbformat": 4,
  "vscode": {
   "interpreter": {
    "hash": "7536d7b229462f4296d4c0dae49c3bd6cd3990c783d6b9d88ce3c31a78605890"
   }
  }
 },
 "nbformat": 4,
 "nbformat_minor": 2
}
