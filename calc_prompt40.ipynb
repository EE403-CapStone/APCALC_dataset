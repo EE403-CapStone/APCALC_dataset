{
 "cells": [
  {
   "attachments": {},
   "cell_type": "markdown",
   "metadata": {},
   "source": [
    "# metadata: \n",
    "- AP CALC AB\n",
    "- 2011 B\n",
    "- Q2\n",
    "\n",
    "# Prompt\n",
    "\n",
    "A 12,000-liter tank of water is filled to capacity. At time t = 0, water begins to drain out of the tank at a rate modeled by r(t), measured in liters per hour, where r is given by the piecewise-defined function.\n",
    "\n",
    "r(t) =  (600*t)/(t+3)   for 0<= t <=5\n",
    "        1000*e^(-.2*t)  for t >5\n",
    "\n",
    "(a) Is r continuous at t = 5 ? Show the work that leads to your answer. \n",
    "\n",
    "(b) Find the average rate at which water is draining from the tank between time t = 0 and time 8 t = hours. \n",
    "\n",
    "(c) Find r'(3). Using correct units, explain the meaning of that value in the context of this problem. \n",
    "\n",
    "(d) Write, but do not solve, an equation involving an integral to find the time A when the amount of water in the tank is 9000 liters."
   ]
  }
 ],
 "metadata": {
  "kernelspec": {
   "display_name": "Python 3.8.2 64-bit",
   "language": "python",
   "name": "python3"
  },
  "language_info": {
   "name": "python",
   "version": "3.8.2"
  },
  "orig_nbformat": 4,
  "vscode": {
   "interpreter": {
    "hash": "31f2aee4e71d21fbe5cf8b01ff0e069b9275f58929596ceb00d14d90e3e16cd6"
   }
  }
 },
 "nbformat": 4,
 "nbformat_minor": 2
}
