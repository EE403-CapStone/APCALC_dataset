{
 "cells": [
  {
   "attachments": {},
   "cell_type": "markdown",
   "metadata": {},
   "source": [
    "# metadata: \n",
    "- AP CALC AB\n",
    "- 2011\n",
    "- Q6\n",
    "\n",
    "# Prompt\n",
    "\n",
    "Let f be a function defined by \n",
    "\n",
    "f(x) =  1-2*sin(x)  for x<>=0\n",
    "        e^(-4*x)    for x>0\n",
    "\n",
    "(a) Show that f is continuous at x = 0.\n",
    "\n",
    "(b) For x != 0, express f'(x) as a piecewise-defined function. Find the value of x for which f'(x) = −3.\n",
    "\n",
    "(c) Find the average value of f on the interval [−1, 1]."
   ]
  }
 ],
 "metadata": {
  "language_info": {
   "name": "python"
  },
  "orig_nbformat": 4
 },
 "nbformat": 4,
 "nbformat_minor": 2
}
