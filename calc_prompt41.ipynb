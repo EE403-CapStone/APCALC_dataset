{
 "cells": [
  {
   "cell_type": "code",
   "execution_count": null,
   "metadata": {},
   "outputs": [],
   "source": []
  },
  {
   "attachments": {},
   "cell_type": "markdown",
   "metadata": {},
   "source": [
    "# metadata: \n",
    "- AP CALC AB\n",
    "- 2011\n",
    "- Q6\n",
    "\n",
    "# Prompt\n",
    "\n",
    "Let f be a function defined by ( ) 4\n",
    "1 2sin for 0\n",
    "for 0. x\n",
    "x x\n",
    "f x\n",
    "e x −\n",
    "⎧ − ≤ = ⎨\n",
    "⎩ >\n",
    "\n",
    "(a) Show that f is continuous at x = 0.\n",
    "\n",
    "(b) For x ≠ 0, express f ′( x) as a piecewise-defined function. Find the value of x for which f x ′( ) = −3.\n",
    "\n",
    "(c) Find the average value of f on the interval [−1, 1 ."
   ]
  }
 ],
 "metadata": {
  "language_info": {
   "name": "python"
  },
  "orig_nbformat": 4
 },
 "nbformat": 4,
 "nbformat_minor": 2
}
