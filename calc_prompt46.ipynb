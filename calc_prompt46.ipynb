{
 "cells": [
  {
   "attachments": {},
   "cell_type": "markdown",
   "metadata": {},
   "source": [
    "# metadata: \n",
    "- AP CALC AB\n",
    "- 2010 B\n",
    "- Q2\n",
    "\n",
    "# Prompt\n",
    "\n",
    "The function g is defined for x > 0 with g(1)=2, g'(x)=sin(x+1/x) and g''(x) = (1-1/x^2)*cos(x+1/x).\n",
    "\n",
    "(a) Find all values of x in the interval 0.12<= x <=1 at which the graph of g has a horizontal tangent line.\n",
    "\n",
    "(b) On what subintervals of (0.12, 1), if any, is the graph of g concave down? Justify your answer. \n",
    "\n",
    "(c) Write an equation for the line tangent to the graph of g at x = 0.3.\n",
    "\n",
    "(d) Does the line tangent to the graph of g at x = 0.3 lie above or below the graph of g for 0.3<= x <=1 ? Why? "
   ]
  }
 ],
 "metadata": {
  "kernelspec": {
   "display_name": "Python 3.10.8 64-bit (microsoft store)",
   "language": "python",
   "name": "python3"
  },
  "language_info": {
   "name": "python",
   "version": "3.10.8"
  },
  "orig_nbformat": 4,
  "vscode": {
   "interpreter": {
    "hash": "7536d7b229462f4296d4c0dae49c3bd6cd3990c783d6b9d88ce3c31a78605890"
   }
  }
 },
 "nbformat": 4,
 "nbformat_minor": 2
}
