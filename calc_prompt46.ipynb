{
 "cells": [
  {
   "attachments": {},
   "cell_type": "markdown",
   "metadata": {},
   "source": [
    "# metadata: \n",
    "- AP CALC AB\n",
    "- 2010 B\n",
    "- Q2\n",
    "\n",
    "# Prompt\n",
    "\n",
    "The function g is defined for x > 0 with g( ) 1 2, = ( ) ( ) 1\n",
    "gx x sin ,\n",
    "x ′ = + and ( ) 2 ( ) 1 1\n",
    "gx x 1 cos .\n",
    "x x\n",
    "⎛ ⎞ ′′ =− + ⎜ ⎟ ⎝ ⎠\n",
    "\n",
    "(a) Find all values of x in the interval 0.12 1 ≤ ≤ x at which the graph of g has a horizontal tangent line. \n",
    "\n",
    "(b) On what subintervals of ( ) 0.12, 1 , if any, is the graph of g concave down? Justify your answer. \n",
    "\n",
    "(c) Write an equation for the line tangent to the graph of g at x = 0.3.\n",
    "\n",
    "(d) Does the line tangent to the graph of g at x = 0.3 lie above or below the graph of g for 0.3 1 ? < < x Why? "
   ]
  }
 ],
 "metadata": {
  "kernelspec": {
   "display_name": "Python 3.10.8 64-bit (microsoft store)",
   "language": "python",
   "name": "python3"
  },
  "language_info": {
   "name": "python",
   "version": "3.10.8"
  },
  "orig_nbformat": 4,
  "vscode": {
   "interpreter": {
    "hash": "7536d7b229462f4296d4c0dae49c3bd6cd3990c783d6b9d88ce3c31a78605890"
   }
  }
 },
 "nbformat": 4,
 "nbformat_minor": 2
}
