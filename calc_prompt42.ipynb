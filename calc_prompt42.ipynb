{
 "cells": [
  {
   "cell_type": "code",
   "execution_count": null,
   "metadata": {},
   "outputs": [],
   "source": []
  },
  {
   "attachments": {},
   "cell_type": "markdown",
   "metadata": {},
   "source": [
    "# metadata: \n",
    "- AP CALC AB\n",
    "- 2011\n",
    "- Q5\n",
    "\n",
    "# Prompt\n",
    "\n",
    "At the beginning of 2010, a landfill contained 1400 tons of solid waste. The increasing function W models \n",
    "the total amount of solid waste stored at the landfill. Planners estimate that W will satisfy the differential \n",
    "equation ( ) 1 300 25\n",
    "dW W dt = − for the next 20 years. W is measured in tons, and t is measured in years from \n",
    "the start of 2010. \n",
    "\n",
    "(a) Use the line tangent to the graph of W at t = 0 to approximate the amount of solid waste that the landfill \n",
    "contains at the end of the first 3 months of 2010 (time 1\n",
    "4 t = ). \n",
    "\n",
    "(b) Find \n",
    "2\n",
    "2\n",
    "d W\n",
    "dt\n",
    " in terms of W. Use \n",
    "2\n",
    "2\n",
    "d W\n",
    "dt to determine whether your answer in part (a) is an underestimate or \n",
    "an overestimate of the amount of solid waste that the landfill contains at time 1 . 4 t =\n",
    "\n",
    "(c) Find the particular solution W Wt = ( ) to the differential equation ( ) 1 300 25\n",
    "dW W dt = − with initial \n",
    "condition W (0 1400."
   ]
  }
 ],
 "metadata": {
  "language_info": {
   "name": "python"
  },
  "orig_nbformat": 4
 },
 "nbformat": 4,
 "nbformat_minor": 2
}
