{
 "cells": [
  {
   "attachments": {},
   "cell_type": "markdown",
   "metadata": {},
   "source": [
    "# metadata: \n",
    "- AP CALC AB\n",
    "- 2011\n",
    "- Q5\n",
    "\n",
    "# Prompt\n",
    "\n",
    "At the beginning of 2010, a landfill contained 1400 tons of solid waste. The increasing function W models the total amount of solid waste stored at the landfill. Planners estimate that W will satisfy the differential equation dW/dt=1/25*(W-300) for the next 20 years. W is measured in tons, and t is measured in years from the start of 2010. \n",
    "\n",
    "(a) Use the line tangent to the graph of W at t = 0 to approximate the amount of solid waste that the landfill contains at the end of the first 3 months of 2010 (t=1/4). \n",
    "\n",
    "(b) Find d^2W/dt^2 to determine whether your answer in part (a) is an underestimate or \n",
    "an overestimate of the amount of solid waste that the landfill contains at time t=1/4.\n",
    "\n",
    "(c) Find the particular solution W=W(t) to the differential equation dW/dt=1/25*(W-300) with initial condition W(0)=1400."
   ]
  }
 ],
 "metadata": {
  "language_info": {
   "name": "python"
  },
  "orig_nbformat": 4
 },
 "nbformat": 4,
 "nbformat_minor": 2
}
