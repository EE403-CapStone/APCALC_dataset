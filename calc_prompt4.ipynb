{
 "cells": [
  {
   "cell_type": "markdown",
   "metadata": {},
   "source": [
    "# metadata: \n",
    "- AP CALC AB\n",
    "- 2021\n",
    "- Q6\n",
    "\n",
    "# Prompt\n",
    "A medication is administered to a patient. The amount, in milligrams, of the medication in the patient at\n",
    "time t hours is modeled by a function y = A(t) that satisfies the differential equation dy/dt=(12 − y)/3. At time t = 0 hours, there are 0 milligrams of the medication in the patient.\n",
    "\n",
    "(a) Using correct units, interpret the statement lim(A(t),t->INF) = 12\n",
    "in the context of this problem.\n",
    "\n",
    "(c) Use separation of variables to find y = A(t), the particular solution to the differential equation\n",
    "dy/dt=(12 − y )/3 with initial condition A(0) = 0. \n",
    "\n",
    "\n",
    "(d) A different procedure is used to administer the medication to a second patient. The amount, in milligrams,\n",
    "of the medication in the second patient at time t hours is modeled by a function y = B(t) that satisfies the\n",
    "differential equation dy/dt = 3-(y/(t+2)). At time t = 1 hour, there are 2.5 milligrams of the medication in\n",
    "the second patient. Is the rate of change of the amount of medication in the second patient increasing or\n",
    "decreasing at time t = 1 ? Give a reason for your answer. "
   ]
  }
 ],
 "metadata": {
  "language_info": {
   "name": "python"
  },
  "orig_nbformat": 4
 },
 "nbformat": 4,
 "nbformat_minor": 2
}
