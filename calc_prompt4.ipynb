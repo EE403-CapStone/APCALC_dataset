{
 "cells": [
  {
   "cell_type": "markdown",
   "metadata": {},
   "source": [
    "# metadata: \n",
    "- AP CALC AB\n",
    "- 2021\n",
    "- Q6\n",
    "\n",
    "# Prompt\n",
    "A medication is administered to a patient. The amount, in milligrams, of the medication in the patient at\n",
    "time t hours is modeled by a function y = A(t ) that satisfies the differential equation dy 12 − y = dt 3\n",
    ". At time\n",
    "t = 0 hours, there are 0 milligrams of the medication in the patient. \n",
    "(b) Using correct units, interpret the statement lim A t( ) = 12\n",
    "t→∞\n",
    "in the context of this problem.\n",
    "(c) Use separation of variables to find y = A(t), the particular solution to the differential equation\n",
    "dy 12 − y = dt 3\n",
    "with initial condition A( )0 = 0. \n",
    "(d) A different procedure is used to administer the medication to a second patient. The amount, in milligrams,\n",
    "of the medication in the second patient at time t hours is modeled by a function y = B(t) that satisfies the\n",
    "differential equation dy y = 3 − dt t + 2\n",
    ". At time t = 1 hour, there are 2.5 milligrams of the medication in\n",
    "the second patient. Is the rate of change of the amount of medication in the second patient increasing or\n",
    "decreasing at time t = 1 ? Give a reason for your answer. "
   ]
  }
 ],
 "metadata": {
  "language_info": {
   "name": "python"
  },
  "orig_nbformat": 4
 },
 "nbformat": 4,
 "nbformat_minor": 2
}
