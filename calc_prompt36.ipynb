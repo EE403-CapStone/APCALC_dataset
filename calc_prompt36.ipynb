{
 "cells": [
  {
   "cell_type": "code",
   "execution_count": null,
   "metadata": {},
   "outputs": [],
   "source": []
  },
  {
   "attachments": {},
   "cell_type": "markdown",
   "metadata": {},
   "source": [
    "# metadata: \n",
    "- AP CALC AB\n",
    "- 2012\n",
    "- Q4\n",
    "\n",
    "# Prompt\n",
    "\n",
    "The function f is defined by ( ) 2 f x x = − 25 for −≤ ≤ 5 5. x\n",
    "\n",
    "(a) Find f ′( ) x .\n",
    "\n",
    "(b) Write an equation for the line tangent to the graph of f at x = −3.\n",
    "\n",
    "(c) Let g be the function defined by ( ) ( ) for 5 3\n",
    "7 for 3 5.\n",
    "fx x\n",
    "g x\n",
    "x x\n",
    " − ≤ ≤− = \n",
    " + −< ≤\n",
    "Is g continuous at x = −3 ? Use the definition of continuity to explain your answer. \n",
    "\n",
    "(d) Find the value of \n",
    "5 2\n",
    "0\n",
    "x 25 "
   ]
  }
 ],
 "metadata": {
  "language_info": {
   "name": "python"
  },
  "orig_nbformat": 4
 },
 "nbformat": 4,
 "nbformat_minor": 2
}
