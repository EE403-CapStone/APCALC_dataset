{
 "cells": [
  {
   "attachments": {},
   "cell_type": "markdown",
   "metadata": {},
   "source": [
    "# metadata: \n",
    "- AP CALC AB\n",
    "- 2012\n",
    "- Q4\n",
    "\n",
    "# Prompt\n",
    "\n",
    "The function f is defined by f(x)=(25-x^2)^(1/2) for -5<=x<=5\n",
    "\n",
    "(a) Find f'(x).\n",
    "\n",
    "(b) Write an equation for the line tangent to the graph of f at x=-3.\n",
    "\n",
    "(c) Let g be the function defined by \n",
    "\n",
    "g(x) =  f(x), -5<=x<=-3\n",
    "        x+7 , -3< x <= 5 \n",
    "\n",
    "Is g continuous at x = −3 ? Use the definition of continuity to explain your answer. \n",
    "\n",
    "(d) Find the value of int(x*(25-x^2)^(1/2), 0, 5, dx)"
   ]
  }
 ],
 "metadata": {
  "language_info": {
   "name": "python"
  },
  "orig_nbformat": 4
 },
 "nbformat": 4,
 "nbformat_minor": 2
}
