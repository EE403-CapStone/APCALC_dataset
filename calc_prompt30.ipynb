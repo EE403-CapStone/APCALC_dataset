{
 "cells": [
  {
   "cell_type": "code",
   "execution_count": null,
   "metadata": {},
   "outputs": [],
   "source": []
  },
  {
   "attachments": {},
   "cell_type": "markdown",
   "metadata": {},
   "source": [
    "# metadata: \n",
    "- AP CALC AB\n",
    "- 2014\n",
    "- Q1\n",
    "\n",
    "# Prompt\n",
    "\n",
    "Grass clippings are placed in a bin, where they decompose. For 0 30, ≤ ≤t the amount of grass clippings \n",
    "remaining in the bin is modeled by ( ) 6.687 0.931 , ( )\n",
    "t A t = where A t( ) is measured in pounds and t is measured \n",
    "in days.\n",
    "\n",
    "(a) Find the average rate of change of A t( ) over the interval 0 30. ≤ ≤t Indicate units of measure.\n",
    "\n",
    "(b) Find the value of A′(15 .) Using correct units, interpret the meaning of the value in the context of the \n",
    "problem.\n",
    "\n",
    "(c) Find the time t for which the amount of grass clippings in the bin is equal to the average amount of grass \n",
    "clippings in the bin over the interval 0 30. ≤ ≤t\n",
    "\n",
    "(d) For t > 30, L t( ), the linear approximation to A at t = 30, is a better model for the amount of grass \n",
    "clippings remaining in the bin. Use L t( ) to predict the time at which there will be 0.5 pound of grass \n",
    "clippings remaining in the bin. Show the work that leads to your answer."
   ]
  }
 ],
 "metadata": {
  "language_info": {
   "name": "python"
  },
  "orig_nbformat": 4
 },
 "nbformat": 4,
 "nbformat_minor": 2
}
