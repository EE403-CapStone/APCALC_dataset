{
 "cells": [
  {
   "attachments": {},
   "cell_type": "markdown",
   "metadata": {},
   "source": [
    "# metadata: \n",
    "- AP CALC AB\n",
    "- 2014\n",
    "- Q1\n",
    "\n",
    "# Prompt\n",
    "\n",
    "Grass clippings are placed in a bin, where they decompose. For 0 <= t <= 30 the amount of grass clippings remaining in the bin is modeled by A(t)=6.687*(0.931)^t where A(t) is measured in pounds and t is measured in days.\n",
    "\n",
    "(a) Find the average rate of change of A(t) over the interval 0 <=t<=30. Indicate units of measure.\n",
    "\n",
    "(b) Find the value of A'(15). Using correct units, interpret the meaning of the value in the context of the problem.\n",
    "\n",
    "(c) Find the time t for which the amount of grass clippings in the bin is equal to the average amount of grass clippings in the bin over the interval 0 <= t <= 30.\n",
    "\n",
    "(d) For t > 30, L(t), the linear approximation to A at t = 30, is a better model for the amount of grass clippings remaining in the bin. Use L(t) to predict the time at which there will be 0.5 pound of grass clippings remaining in the bin. Show the work that leads to your answer."
   ]
  }
 ],
 "metadata": {
  "kernelspec": {
   "display_name": "Python 3.10.8 64-bit (microsoft store)",
   "language": "python",
   "name": "python3"
  },
  "language_info": {
   "name": "python",
   "version": "3.10.8"
  },
  "orig_nbformat": 4,
  "vscode": {
   "interpreter": {
    "hash": "7536d7b229462f4296d4c0dae49c3bd6cd3990c783d6b9d88ce3c31a78605890"
   }
  }
 },
 "nbformat": 4,
 "nbformat_minor": 2
}
