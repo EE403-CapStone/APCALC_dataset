{
 "cells": [
  {
   "attachments": {},
   "cell_type": "markdown",
   "metadata": {},
   "source": [
    "# metadata: \n",
    "- AP CALC AB\n",
    "- 2014\n",
    "- Q1\n",
    "\n",
    "# Prompt\n",
    "\n",
    "Grass clippings are placed in a bin, where they decompose. For 0 <= t <= 30 the amount of grass clippings remaining in the bin is modeled by A(t)=6.687*(0.931)^t where A(t) is measured in pounds and t is measured in days.\n",
    "\n",
    "(a) Find the average rate of change of A(t) over the interval 0 <=t<=30. Indicate units of measure.\n",
    "\n",
    "(b) Find the value of A'(15). Using correct units, interpret the meaning of the value in the context of the problem.\n",
    "\n",
    "(c) Find the time t for which the amount of grass clippings in the bin is equal to the average amount of grass clippings in the bin over the interval 0 <= t <= 30.\n",
    "\n",
    "(d) For t > 30, L(t), the linear approximation to A at t = 30, is a better model for the amount of grass clippings remaining in the bin. Use L(t) to predict the time at which there will be 0.5 pound of grass clippings remaining in the bin. Show the work that leads to your answer."
   ]
  }
 ],
 "metadata": {
  "kernelspec": {
   "display_name": "Python 3.8.2 64-bit",
   "language": "python",
   "name": "python3"
  },
  "language_info": {
   "name": "python",
   "version": "3.8.2"
  },
  "orig_nbformat": 4,
  "vscode": {
   "interpreter": {
    "hash": "31f2aee4e71d21fbe5cf8b01ff0e069b9275f58929596ceb00d14d90e3e16cd6"
   }
  }
 },
 "nbformat": 4,
 "nbformat_minor": 2
}
