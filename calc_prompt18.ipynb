{
 "cells": [
  {
   "cell_type": "markdown",
   "metadata": {},
   "source": [
    "# metadata: \n",
    "- AP CALC AB\n",
    "- 2017\n",
    "- Q5\n",
    "\n",
    "# Prompt\n",
    "\n",
    "Two particles move along the x-axis. For 0< t <80 , the position of particle P at time t is given by xp(t)=ln(t^2-2*t+10) , while the velocity of particle Q at time t is given by vq(t)=t^2-8*t+15. Particle Q is at position x = 5 at time t = 0.\n",
    "\n",
    "(a) For 0< t< 8, when is particle P moving to the left?\n",
    "\n",
    "(b) For 0< t< 8, find all times t during which the two particles travel in the same direction.\n",
    "\n",
    "(c) Find the acceleration of particle Q at time t = 2. Is the speed of particle Q increasing, decreasing, or neither at time t = 2 ? Explain your reasoning.\n",
    "\n",
    "(d) Find the position of particle Q the first time it changes direction. "
   ]
  },
  {
   "attachments": {},
   "cell_type": "markdown",
   "metadata": {},
   "source": [
    "## Conversation\n",
    "\n",
    "User: how to discern the particle moving direction in part (a)?\n",
    "\n",
    "Mathilda: derivative the function Xp(t). The part of X'p(t) smaller than zero is left direction, and the part of X'p(t) bigger than zero is right direction."
   ]
  },
  {
   "attachments": {},
   "cell_type": "markdown",
   "metadata": {},
   "source": [
    "## Conversation\n",
    "\n",
    "User: how to find the acceleration in part(c)?\n",
    "\n",
    "Mathilda: derivative the speed function to get the acceleration function, and substitute the time to get the acceleration."
   ]
  },
  {
   "attachments": {},
   "cell_type": "markdown",
   "metadata": {},
   "source": [
    "## Conversation\n",
    "\n",
    "User: how to determine the particle is increasing, decreasing or neither in part (c)?\n",
    "\n",
    "Mathilda: calculate the answer for velocity and acceleration at t. if the velocity and acceleration have opposite sign, the particle is decreasing. If the velocity and acceleration have the same sign, the object is increasing."
   ]
  },
  {
   "attachments": {},
   "cell_type": "markdown",
   "metadata": {},
   "source": [
    "## Conversation\n",
    "\n",
    "User: how to find postion when it first change the direction in part (d)?\n",
    "\n",
    "Mathilda: Add the function of distance at time 0 and the integral of speed function between 3 and 0 together."
   ]
  }
 ],
 "metadata": {
  "kernelspec": {
   "display_name": "Python 3.10.8 64-bit (microsoft store)",
   "language": "python",
   "name": "python3"
  },
  "language_info": {
   "name": "python",
   "version": "3.10.8"
  },
  "orig_nbformat": 4,
  "vscode": {
   "interpreter": {
    "hash": "7536d7b229462f4296d4c0dae49c3bd6cd3990c783d6b9d88ce3c31a78605890"
   }
  }
 },
 "nbformat": 4,
 "nbformat_minor": 2
}
