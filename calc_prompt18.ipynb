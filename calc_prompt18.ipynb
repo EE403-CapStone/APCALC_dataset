{
 "cells": [
  {
   "cell_type": "markdown",
   "metadata": {},
   "source": [
    "# metadata: \n",
    "- AP CALC AB\n",
    "- 2017\n",
    "- Q5\n",
    "\n",
    "# Prompt\n",
    "\n",
    "Two particles move along the x-axis. For 0< t <80 , the position of particle P at time t is given by xp(t)=ln(t^2-2*t+10) , while the velocity of particle Q at time t is given by vq(t)=t^2-8*t+15. Particle Q is at position x = 5 at time t = 0.\n",
    "\n",
    "(a) For 0< t< 8, when is particle P moving to the left?\n",
    "\n",
    "(b) For 0< t< 8, find all times t during which the two particles travel in the same direction.\n",
    "\n",
    "(c) Find the acceleration of particle Q at time t = 2. Is the speed of particle Q increasing, decreasing, or neither at time t = 2 ? Explain your reasoning.\n",
    "\n",
    "(d) Find the position of particle Q the first time it changes direction. "
   ]
  }
 ],
 "metadata": {
  "kernelspec": {
   "display_name": "Python 3.9.13 64-bit (microsoft store)",
   "language": "python",
   "name": "python3"
  },
  "language_info": {
   "name": "python",
   "version": "3.9.13"
  },
  "orig_nbformat": 4,
  "vscode": {
   "interpreter": {
    "hash": "260dee7956bb90417b93d15a48640bfb34c75f27c1c396b243529dc297b6d7ef"
   }
  }
 },
 "nbformat": 4,
 "nbformat_minor": 2
}
