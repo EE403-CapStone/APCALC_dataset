{
 "cells": [
  {
   "attachments": {},
   "cell_type": "markdown",
   "metadata": {},
   "source": [
    "# metadata: \n",
    "- AP CALC AB\n",
    "- 2015\n",
    "- Q3\n",
    "\n",
    "# Prompt\n",
    "\n",
    "t: [0, 12, 20, 24, 40]\n",
    "\n",
    "E(t): [0, 200, 240, -220, 15]\n",
    "\n",
    "Johanna jogs along a straight path. For 0 40, ≤ ≤t Johanna’s velocity is given by a differentiable function v. \n",
    "Selected values of v t( ), where t is measured in minutes and v t( ) is measured in meters per minute, are given in \n",
    "the table above.\n",
    "(a) Use the data in the table to estimate the value of v′(16 .)\n",
    "(b) Using correct units, explain the meaning of the definite integral ( ) 40\n",
    "0\n",
    "v t dt ∫ in the context of the problem. \n",
    "Approximate the value of ( ) 40\n",
    "0\n",
    "v t dt ∫ using a right Riemann sum with the four subintervals indicated in the \n",
    "table.\n",
    "(c) Bob is riding his bicycle along the same path. For 0 10, ≤ ≤t Bob’s velocity is modeled by \n",
    "( ) 3 2 Bt t t =− + 6 300, where t is measured in minutes and B t( ) is measured in meters per minute.\n",
    "Find Bob’s acceleration at time t = 5.\n",
    "(d) Based on the model B from part (c), find Bob’s average velocity during the interval 0 10.\n"
   ]
  }
 ],
 "metadata": {
  "kernelspec": {
   "display_name": "Python 3.8.2 64-bit",
   "language": "python",
   "name": "python3"
  },
  "language_info": {
   "name": "python",
   "version": "3.8.2"
  },
  "orig_nbformat": 4,
  "vscode": {
   "interpreter": {
    "hash": "31f2aee4e71d21fbe5cf8b01ff0e069b9275f58929596ceb00d14d90e3e16cd6"
   }
  }
 },
 "nbformat": 4,
 "nbformat_minor": 2
}
