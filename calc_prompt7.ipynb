{
 "cells": [
  {
   "cell_type": "markdown",
   "metadata": {},
   "source": [
    "# metadata: \n",
    "- AP CALC AB\n",
    "- 2019\n",
    "- Q4\n",
    "\n",
    "# Prompt\n",
    "A cylindrical barrel with a diameter of 2 feet contains collected rainwater, as shown in the figure above. The\n",
    "water drains out through a valve (not shown) at the bottom of the barrel. The rate of change of the height h of\n",
    "the water in the barrel with respect to time t is modeled by dh/dt = -1/10*(h)^(1/2) , where h is measured in feet and t is measured in seconds. (The volume V of a cylinder with radius r and height h is V = pi*r^2*h .)\n",
    "\n",
    "(a) Find the rate of change of the volume of water in the barrel with respect to time when the height of the\n",
    "water is 4 feet. Indicate units of measure.\n",
    "\n",
    "(b) When the height of the water is 3 feet, is the rate of change of the height of the water with respect to time increasing or decreasing? Explain your reasoning.\n",
    "\n",
    "(c) At time t = 0 seconds, the height of the water is 5 feet. Use separation of variables to find an expression\n",
    "for h in terms of t. "
   ]
  }
 ],
 "metadata": {
  "language_info": {
   "name": "python"
  },
  "orig_nbformat": 4
 },
 "nbformat": 4,
 "nbformat_minor": 2
}
