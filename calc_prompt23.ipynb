{
 "cells": [
  {
   "cell_type": "markdown",
   "metadata": {},
   "source": [
    "# metadata: \n",
    "- AP CALC AB\n",
    "- 2016\n",
    "- Q6\n",
    "\n",
    "# Prompt\n",
    "\n",
    "x = [1, 2, 3, 6]\n",
    "\n",
    "f(x) = [-6, 2, 8, 4]\n",
    "\n",
    "f'(x) = [3, -2, 7, 5]\n",
    "\n",
    "g(x) = [2, -3, 6, 3]\n",
    "\n",
    "g'(x) = [8, 0, 2, -1]\n",
    "\n",
    "The functions f and g have continuous second derivatives. The table above gives values of the functions and their derivatives at selected values of x.\n",
    "\n",
    "(a) Let k(x)=f(g(x)). Write an equation for the line tangent to the graph of k at x 3.\n",
    "\n",
    "(b) Let h(x) = g(x)/f(x). \n",
    "\n",
    "(c) Evaluate int(f''(2*x),1,3,dx)\n"
   ]
  }
 ],
 "metadata": {
  "kernelspec": {
   "display_name": "Python 3.9.13 64-bit (microsoft store)",
   "language": "python",
   "name": "python3"
  },
  "language_info": {
   "name": "python",
   "version": "3.9.13"
  },
  "orig_nbformat": 4,
  "vscode": {
   "interpreter": {
    "hash": "260dee7956bb90417b93d15a48640bfb34c75f27c1c396b243529dc297b6d7ef"
   }
  }
 },
 "nbformat": 4,
 "nbformat_minor": 2
}
