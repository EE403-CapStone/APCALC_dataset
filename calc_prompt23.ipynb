{
 "cells": [
  {
   "cell_type": "markdown",
   "metadata": {},
   "source": [
    "# metadata: \n",
    "- AP CALC AB\n",
    "- 2016\n",
    "- Q6\n",
    "\n",
    "# Prompt\n",
    "\n",
    "x = [1, 2, 3, 6]\n",
    "\n",
    "f(x) = [-6, 2, 8, 4]\n",
    "\n",
    "f'(x) = [3, -2, 7, 5]\n",
    "\n",
    "g(x) = [2, -3, 6, 3]\n",
    "\n",
    "g'(x) = [8, 0, 2, -1]\n",
    "\n",
    "The functions f and g have continuous second derivatives. The table above gives values of the functions and their derivatives at selected values of x.\n",
    "\n",
    "(a) Let k(x)=f(g(x)). Write an equation for the line tangent to the graph of k at x 3.\n",
    "\n",
    "(b) Let h(x) = g(x)/f(x). \n",
    "\n",
    "(c) Evaluate int(f''(2*x),1,3,dx)\n"
   ]
  },
  {
   "attachments": {},
   "cell_type": "markdown",
   "metadata": {},
   "source": [
    "## Conversation\n",
    "\n",
    "User: how to write the equation for the line tangent to the graph?\n",
    "\n",
    "Mathilda: use the differential equation find the slope first, and make the tangent line with x = k"
   ]
  },
  {
   "attachments": {},
   "cell_type": "markdown",
   "metadata": {},
   "source": [
    "## Conversation\n",
    "\n",
    "User: how to use the table to find the equation for tangent line at x, if k(x) = f(g(x))?\n",
    "\n",
    "Mathilda: find the k(x) in the corresponding number, and find slope with function k'(x) = f'(g(x))*g'(x). The equation of tangent line is y = k'(x)(x-x0)+k(x)."
   ]
  },
  {
   "attachments": {},
   "cell_type": "markdown",
   "metadata": {},
   "source": [
    "## Conversation\n",
    "\n",
    "User: how to find h'(x) when h(x) = g(x)/f(x)?\n",
    "\n",
    "Mathilda: use the function h'(x) = [f(x)g'(x)-g(x)f'(x)]/[f(x)]^2"
   ]
  }
 ],
 "metadata": {
  "kernelspec": {
   "display_name": "Python 3.10.8 64-bit (microsoft store)",
   "language": "python",
   "name": "python3"
  },
  "language_info": {
   "name": "python",
   "version": "3.10.8"
  },
  "orig_nbformat": 4,
  "vscode": {
   "interpreter": {
    "hash": "7536d7b229462f4296d4c0dae49c3bd6cd3990c783d6b9d88ce3c31a78605890"
   }
  }
 },
 "nbformat": 4,
 "nbformat_minor": 2
}
