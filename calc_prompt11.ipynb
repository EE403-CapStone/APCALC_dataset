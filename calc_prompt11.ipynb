{
 "cells": [
  {
   "cell_type": "markdown",
   "metadata": {},
   "source": [
    "# metadata: \n",
    "- AP CALC AB\n",
    "- 2018\n",
    "- Q2\n",
    "\n",
    "# Prompt\n",
    "A particle moves along the x-axis with velocity given by\n",
    "\n",
    "v(t) = 10*sin(.4*t^2)/(t^2-t+3) 0 < t < 3.5\n",
    "\n",
    "The particle is at position x = −5 at time t = 0.\n",
    "\n",
    "(a) Find the acceleration of the particle at time t = 3.\n",
    "\n",
    "(b) Find the position of the particle at time t = 3.\n",
    "\n",
    "(c) Evaluate int(v(t),0,3.5,dt) , and evaluate int(|v(t)|,0,3.5,dt). Interpret the meaning of each integral in the context of the problem.\n",
    "\n",
    "(d) A second particle moves along the x-axis with position given by \n",
    "\n",
    "x(t) = t-t^2  0< t < 3.5\n",
    "\n",
    "At what time t are the two particles moving with the same velocity? "
   ]
  }
 ],
 "metadata": {
  "kernelspec": {
   "display_name": "Python 3.8.2 64-bit",
   "language": "python",
   "name": "python3"
  },
  "language_info": {
   "name": "python",
   "version": "3.8.2"
  },
  "orig_nbformat": 4,
  "vscode": {
   "interpreter": {
    "hash": "31f2aee4e71d21fbe5cf8b01ff0e069b9275f58929596ceb00d14d90e3e16cd6"
   }
  }
 },
 "nbformat": 4,
 "nbformat_minor": 2
}
