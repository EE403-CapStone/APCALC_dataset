{
 "cells": [
  {
   "cell_type": "markdown",
   "metadata": {},
   "source": [
    "# metadata: \n",
    "- AP CALC AB\n",
    "- 2018\n",
    "- Q2\n",
    "\n",
    "# Prompt\n",
    "A particle moves along the x-axis with velocity given by\n",
    "\n",
    "v(t) = 10*sin(.4t^2)/(t^2-t+3) 0 \\< t \\< 3.5\n",
    "\n",
    "The particle is at position x = −5 at time t = 0.\n",
    "(a) Find the acceleration of the particle at time t = 3.\n",
    "(b) Find the position of the particle at time t = 3.\n",
    "(c) Evaluate\n",
    "3.5 ∫ v t d ( ) t\n",
    "0 , and evaluate\n",
    "3.5 ∫ v t() dt\n",
    "0 . Interpret the meaning of each integral in the context of\n",
    "the problem.\n",
    "(d) A second particle moves along the x-axis with position given by \n",
    "\n",
    "x_t(t) = t-t^2  0\\< t \\< 3.5\n",
    "\n",
    "At what time t are the two particles moving with the same velocity? "
   ]
  }
 ],
 "metadata": {
  "kernelspec": {
   "display_name": "Python 3.9.13 64-bit (microsoft store)",
   "language": "python",
   "name": "python3"
  },
  "language_info": {
   "name": "python",
   "version": "3.9.13"
  },
  "orig_nbformat": 4,
  "vscode": {
   "interpreter": {
    "hash": "260dee7956bb90417b93d15a48640bfb34c75f27c1c396b243529dc297b6d7ef"
   }
  }
 },
 "nbformat": 4,
 "nbformat_minor": 2
}
