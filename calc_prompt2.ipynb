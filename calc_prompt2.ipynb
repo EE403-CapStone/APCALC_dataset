{
 "cells": [
  {
   "cell_type": "markdown",
   "metadata": {},
   "source": [
    "# metadata: \n",
    "- AP CALC AB\n",
    "- 2021\n",
    "- Q3\n",
    "\n",
    "# Prompt\n",
    "A company designs spinning toys using the family of functions y = c*x*(4-x^2)^(1/2) , where c is a positive\n",
    "constant. Each spinning toy is in the shape of the solid generated when such a region is\n",
    "revolved about the x-axis. Both x and y are measured in inches.\n",
    "\n",
    "(a) Find the area of the region in the first quadrant bounded by the x-axis and the graph of y = c*x*(4-x^2)^(1/2)\n",
    "for c = 6.\n",
    "\n",
    "(b) It is known that, for 2\n",
    "y = cx (4 − x)^(1/2),\n",
    "dy/dx = c(4-2x^2)/(4-x)^(1/2). For a particular spinning toy, the radius of the\n",
    "largest cross-sectional circular slice is 1.2 inches. What is the value of c for this spinning toy?\n",
    "\n",
    "(c) For another spinning toy, the volume is 2pi cubic inches. What is the value of c for this spinning toy? "
   ]
  },
  {
   "cell_type": "markdown",
   "metadata": {},
   "source": [
    "User: Can you explain in laymans terms the prompt.\n",
    "\n",
    "Mathilda: The prompt describes the shape of toy. The shape of the toy can be described by a function revolved about the x axis. x and y axis are spacial dimensions. The plane of the graph is surface area. An area revolved about the x axis forms a volume. A particular cross sectional area of the toy is the area enclosed by the function and the x axis. "
   ]
  },
  {
   "cell_type": "markdown",
   "metadata": {},
   "source": []
  },
  {
   "cell_type": "markdown",
   "metadata": {},
   "source": []
  },
  {
   "cell_type": "markdown",
   "metadata": {},
   "source": []
  }
 ],
 "metadata": {
  "kernelspec": {
   "display_name": "Python 3.9.13 64-bit (microsoft store)",
   "language": "python",
   "name": "python3"
  },
  "language_info": {
   "name": "python",
   "version": "3.9.13"
  },
  "orig_nbformat": 4,
  "vscode": {
   "interpreter": {
    "hash": "260dee7956bb90417b93d15a48640bfb34c75f27c1c396b243529dc297b6d7ef"
   }
  }
 },
 "nbformat": 4,
 "nbformat_minor": 2
}
