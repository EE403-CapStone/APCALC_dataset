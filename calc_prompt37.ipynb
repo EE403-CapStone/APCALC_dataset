{
 "cells": [
  {
   "attachments": {},
   "cell_type": "markdown",
   "metadata": {},
   "source": [
    "# metadata: \n",
    "- AP CALC AB\n",
    "- 2012\n",
    "- Q1\n",
    "\n",
    "# Prompt\n",
    "\n",
    "t: [0, 4, 9, 15, 20]\n",
    "\n",
    "E(t): [55.0, 57.1, 61.8, 67.9, 71.0]\n",
    "\n",
    "The temperature of water in a tub at time t is modeled by a strictly increasing, twice-differentiable function W, where W(t) is measured in degrees Fahrenheit and t is measured in minutes. At time t = 0, the temperature of the water is 55 F°. The water is heated for 30 minutes, beginning at time t = 0. Values of W(t) at selected times t for the first 20 minutes are given in the table above.\n",
    "\n",
    "(a) Use the data in the table to estimate W'(12) . Show the computations that lead to your answer. Using correct units, interpret the meaning of your answer in the context of this problem. \n",
    "\n",
    "(b) Use the data in the table to evaluate int(W'(t), 0, 20, dt). Interpret the answer and units in the context of this problem. \n",
    "\n",
    "(c) For 0<=t<=20 the average temperature of the water in the tub is 1/20*int(W(t), 0, 20, dt).Use left Rieman sum with the four subintervals indicated by the data in the table to approximate he integral. Does this approximation over or underestimate the average temperature of the water? Explain your reasoning. \n",
    "\n",
    "(d) For 20<=t<=25 the function W that models the water temperature has first derivative given by \n",
    "W'(t)=.4*(t)^(1/2)*cos(.06*t) Based on the model, what is the temperature of the water at time t = 25 ?\n"
   ]
  }
 ],
 "metadata": {
  "language_info": {
   "name": "python"
  },
  "orig_nbformat": 4
 },
 "nbformat": 4,
 "nbformat_minor": 2
}
