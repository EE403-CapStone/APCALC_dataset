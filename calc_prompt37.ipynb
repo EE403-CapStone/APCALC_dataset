{
 "cells": [
  {
   "cell_type": "code",
   "execution_count": null,
   "metadata": {},
   "outputs": [],
   "source": []
  },
  {
   "attachments": {},
   "cell_type": "markdown",
   "metadata": {},
   "source": [
    "# metadata: \n",
    "- AP CALC AB\n",
    "- 2012\n",
    "- Q1\n",
    "\n",
    "# Prompt\n",
    "\n",
    "t: [0, 4, 9, 15, 20]\n",
    "\n",
    "E(t): [55.0, 57.1, 61.8, 67.9, 71.0]\n",
    "\n",
    "The temperature of water in a tub at time t is modeled by a strictly increasing, twice-differentiable function W, \n",
    "where W t( ) is measured in degrees Fahrenheit and t is measured in minutes. At time t = 0, the temperature of \n",
    "the water is 55 F. ° The water is heated for 30 minutes, beginning at time t = 0. Values of W t( ) at selected \n",
    "times t for the first 20 minutes are given in the table above. \n",
    "\n",
    "(a) Use the data in the table to estimate W′( ) 12 . Show the computations that lead to your answer. Using correct \n",
    "units, interpret the meaning of your answer in the context of this problem. \n",
    "\n",
    "(b) Use the data in the table to evaluate ( )\n",
    "20\n",
    "0\n",
    "W t dt ′ .  Using correct units, interpret the meaning of ( )\n",
    "20\n",
    "0\n",
    "W t dt ′ \n",
    "in the context of this problem. \n",
    "\n",
    "(c) For 0 20, ≤ ≤t the average temperature of the water in the tub is ( )\n",
    "20\n",
    "0\n",
    "1 . 20 W t dt  Use a left Riemann sum \n",
    "with the four subintervals indicated by the data in the table to approximate ( )\n",
    "20\n",
    "0\n",
    "1 . 20 W t dt  Does this \n",
    "approximation overestimate or underestimate the average temperature of the water over these 20 minutes? \n",
    "Explain your reasoning. \n",
    "\n",
    "(d) For 20 25, ≤ ≤t the function W that models the water temperature has first derivative given by \n",
    "Wt t t ′( ) = 0.4 cos 0.06 . ( ) Based on the model, what is the temperature of the water at time t = 25 ?\n"
   ]
  }
 ],
 "metadata": {
  "language_info": {
   "name": "python"
  },
  "orig_nbformat": 4
 },
 "nbformat": 4,
 "nbformat_minor": 2
}
