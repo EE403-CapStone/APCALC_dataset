{
 "cells": [
  {
   "cell_type": "code",
   "execution_count": null,
   "metadata": {},
   "outputs": [],
   "source": []
  },
  {
   "attachments": {},
   "cell_type": "markdown",
   "metadata": {},
   "source": [
    "# metadata: \n",
    "- AP CALC AB\n",
    "- 2015\n",
    "- Q1\n",
    "\n",
    "# Prompt\n",
    "\n",
    "t: [0, 2, 5, 7, 8]\n",
    "E(t): [0, 4, 13, 21, 23]\n",
    "\n",
    "Train A runs back and forth on an east-west section of \n",
    "railroad track. Train A’s velocity, measured in meters per \n",
    "minute, is given by a differentiable function va(t), where \n",
    "time t is measured in minutes. Selected values for va(t)\n",
    "are given in the table above.\n",
    "\n",
    "(a) Find the average acceleration of train A over the interval 2 <= t <= 8\n",
    "\n",
    "(b) Does the data in the table support the conclusion that train A’s velocity is −100 meters per minute at some time t with 5< t <8? Give a reason for your answer.\n",
    "\n",
    "(c) At time t = 2, train A’s position is 300 meters east of the Origin Station, and the train is moving to the east. Write an expression involving an integral that gives the position of train A, in meters from the Origin Station, at time t = 12. Use a trapezoidal sum with three subintervals indicated by the table to approximate the position of the train at time t = 12.\n",
    "\n",
    "(d) A second train, train B, travels north from the Origin Station. At time t the velocity of train B is given by vb(t)= -5*t^2+60*t+25 and at time t = 2 the train is 400 meters north of the station. Find the rate, in meters per minute, at which the distance between train A and train B is changing at time t = 2."
   ]
  }
 ],
 "metadata": {
  "kernelspec": {
   "display_name": "Python 3.8.2 64-bit",
   "language": "python",
   "name": "python3"
  },
  "language_info": {
   "name": "python",
   "version": "3.8.2"
  },
  "orig_nbformat": 4,
  "vscode": {
   "interpreter": {
    "hash": "31f2aee4e71d21fbe5cf8b01ff0e069b9275f58929596ceb00d14d90e3e16cd6"
   }
  }
 },
 "nbformat": 4,
 "nbformat_minor": 2
}
