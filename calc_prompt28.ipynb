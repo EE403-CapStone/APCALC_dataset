{
 "cells": [
  {
   "cell_type": "code",
   "execution_count": null,
   "metadata": {},
   "outputs": [],
   "source": []
  },
  {
   "attachments": {},
   "cell_type": "markdown",
   "metadata": {},
   "source": [
    "# metadata: \n",
    "- AP CALC AB\n",
    "- 2015\n",
    "- Q1\n",
    "\n",
    "# Prompt\n",
    "\n",
    "The rate at which rainwater flows into a drainpipe is modeled by the function R, where ( )\n",
    "2\n",
    "20sin 35\n",
    "t R t   =    \n",
    "cubic \n",
    "feet per hour, t is measured in hours, and 0 8. ≤ ≤t The pipe is partially blocked, allowing water to drain out the \n",
    "other end of the pipe at a rate modeled by ( ) 3 2 Dt t t t =− + + 0.04 0.4 0.96 cubic feet per hour, for 0 8. ≤ ≤t\n",
    "There are 30 cubic feet of water in the pipe at time t = 0.\n",
    "(a) How many cubic feet of rainwater flow into the pipe during the 8-hour time interval 0 8? ≤ ≤t\n",
    "(b) Is the amount of water in the pipe increasing or decreasing at time t = 3 hours? Give a reason for your \n",
    "answer.\n",
    "(c) At what time t, 0 8, ≤ ≤t is the amount of water in the pipe at a minimum? Justify your answer.\n",
    "(d) The pipe can hold 50 cubic feet of water before overflowing. For t > 8, water continues to flow into and out \n",
    "of the pipe at the given rates until the pipe begins to overflow. Write, but do not solve, an equation involving \n",
    "one or more integrals that gives the time w when the pipe will begin to overflow"
   ]
  }
 ],
 "metadata": {
  "kernelspec": {
   "display_name": "Python 3.8.2 64-bit",
   "language": "python",
   "name": "python3"
  },
  "language_info": {
   "name": "python",
   "version": "3.8.2"
  },
  "orig_nbformat": 4,
  "vscode": {
   "interpreter": {
    "hash": "31f2aee4e71d21fbe5cf8b01ff0e069b9275f58929596ceb00d14d90e3e16cd6"
   }
  }
 },
 "nbformat": 4,
 "nbformat_minor": 2
}
