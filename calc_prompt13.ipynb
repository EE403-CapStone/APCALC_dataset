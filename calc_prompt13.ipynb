{
 "cells": [
  {
   "cell_type": "markdown",
   "metadata": {},
   "source": [
    "# metadata: \n",
    "- AP CALC AB\n",
    "- 2018\n",
    "- Q5\n",
    "\n",
    "# Prompt\n",
    "\n",
    "Let f be the function defined by x fx () = e cos x.\n",
    "(a) Find the average rate of change of f on the interval 0 £ £ x p .\n",
    "(b) What is the slope of the line tangent to the graph of f at\n",
    "3p\n",
    "x = 2\n",
    "?\n",
    "(c) Find the absolute minimum value of f on the interval 0 £ £ x 2p. Justify your answer.\n",
    "(d) Let g be a differentiable function such that p\n",
    "g( ) = 0\n",
    "2 . The graph of g¢, the derivative of g, is shown\n",
    "below. Find the value of f x( ) lim\n",
    "x→p / 2 g x( ) or state that it does not exist. Justify your answer. "
   ]
  }
 ],
 "metadata": {
  "kernelspec": {
   "display_name": "Python 3.9.13 64-bit (microsoft store)",
   "language": "python",
   "name": "python3"
  },
  "language_info": {
   "name": "python",
   "version": "3.9.13"
  },
  "orig_nbformat": 4,
  "vscode": {
   "interpreter": {
    "hash": "260dee7956bb90417b93d15a48640bfb34c75f27c1c396b243529dc297b6d7ef"
   }
  }
 },
 "nbformat": 4,
 "nbformat_minor": 2
}
