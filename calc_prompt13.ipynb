{
 "cells": [
  {
   "cell_type": "markdown",
   "metadata": {},
   "source": [
    "# metadata: \n",
    "- AP CALC AB\n",
    "- 2018\n",
    "- Q5\n",
    "\n",
    "# Prompt\n",
    "\n",
    "Let f be the function defined by f(x) = e^x*cos(x).\n",
    "\n",
    "(a) Find the average rate of change of f on the interval 0< x < pi .\n",
    "\n",
    "(b) What is the slope of the line tangent to the graph of f at x = 3*pi/2\n",
    "\n",
    "(c) Find the absolute minimum value of f on the interval 0< x < 2*pi. Justify your answer.\n",
    "\n",
    "(d) Let g be a differentiable function such that g(pi/2) = 0. The graph of g', the derivative of g, is shown  below. Find the value of lim(f(x)/g(x), x->pi/2). Justify your answer. "
   ]
  }
 ],
 "metadata": {
  "kernelspec": {
   "display_name": "Python 3.9.13 64-bit (microsoft store)",
   "language": "python",
   "name": "python3"
  },
  "language_info": {
   "name": "python",
   "version": "3.9.13"
  },
  "orig_nbformat": 4,
  "vscode": {
   "interpreter": {
    "hash": "260dee7956bb90417b93d15a48640bfb34c75f27c1c396b243529dc297b6d7ef"
   }
  }
 },
 "nbformat": 4,
 "nbformat_minor": 2
}
