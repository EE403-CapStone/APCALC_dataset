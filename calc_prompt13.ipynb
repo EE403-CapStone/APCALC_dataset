{
 "cells": [
  {
   "attachments": {},
   "cell_type": "markdown",
   "metadata": {},
   "source": [
    "# metadata: \n",
    "- AP CALC AB\n",
    "- 2018\n",
    "- Q5\n",
    "\n",
    "# Prompt\n",
    "\n",
    "Let f be the function defined by f(x) = e^x*cos(x).\n",
    "\n",
    "(a) Find the average rate of change of f on the interval 0<= x <= pi .\n",
    "\n",
    "(b) What is the slope of the line tangent to the graph of f at x = 3*pi/2\n",
    "\n",
    "(c) Find the absolute minimum value of f on the interval 0 <= x <= 2*pi. Justify your answer.\n",
    "\n",
    "(d) Let g be a differentiable function such that g(pi/2) = 0. The graph of g', the derivative of g, is shown  below. Find the value of lim(f(x)/g(x), x->pi/2). Justify your answer. "
   ]
  },
  {
   "attachments": {},
   "cell_type": "markdown",
   "metadata": {},
   "source": [
    "## Conversation\n",
    "\n",
    "User: What do I need to know to solve for the average rate of change?\n",
    "\n",
    "Mathilda: The average rate of change over interval a<= x<= b is given by (f(b)-f(a))/(b-a)."
   ]
  },
  {
   "attachments": {},
   "cell_type": "markdown",
   "metadata": {},
   "source": [
    "## Conversation\n",
    "\n",
    "User: Can you give me the expressions to compute the slope of the line tangent to graph of f?\n",
    "\n",
    "Mathilda: The slope of the line tangent to the graph of f at x is given by (e^x)cosx-(e^x)sinx."
   ]
  },
  {
   "attachments": {},
   "cell_type": "markdown",
   "metadata": {},
   "source": [
    "## Conversation\n",
    "\n",
    "User: How do I start on absolute minimum value of f? \n",
    "\n",
    "Mathilda: first, make f'(x) = 0 and get the x. second, use minimum, maximum x values and the x values we got, to get the f(x) values. third, compare these f(x) values and find the minimum value."
   ]
  },
  {
   "attachments": {},
   "cell_type": "markdown",
   "metadata": {},
   "source": [
    "## Conversation\n",
    "\n",
    "User: How do I find the x to compute the absolute value of f?\n",
    "\n",
    "\n",
    "Mathilda: make f'(x) = 0 and get the x, also add the interval maximum and interval minimum value to get all the x."
   ]
  }
 ],
 "metadata": {
  "kernelspec": {
   "display_name": "Python 3.10.8 64-bit (microsoft store)",
   "language": "python",
   "name": "python3"
  },
  "language_info": {
   "name": "python",
   "version": "3.10.8"
  },
  "orig_nbformat": 4,
  "vscode": {
   "interpreter": {
    "hash": "7536d7b229462f4296d4c0dae49c3bd6cd3990c783d6b9d88ce3c31a78605890"
   }
  }
 },
 "nbformat": 4,
 "nbformat_minor": 2
}
