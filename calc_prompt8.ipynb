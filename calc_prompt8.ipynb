{
 "cells": [
  {
   "cell_type": "markdown",
   "metadata": {},
   "source": [
    "# metadata: \n",
    "- AP CALC AB\n",
    "- 2019\n",
    "- Q5\n",
    "\n",
    "# Prompt\n",
    "Let R be the region enclosed by the graphs of g(x) = −2+3*cos(pi/2*x) and h(x) = 6-2*(x-1)^2, the y-axis, and the vertical line x = 2. \n",
    "\n",
    "(a) Find the area of R.\n",
    "\n",
    "(b) Region R is the base of a solid. For the solid, at each x the cross section perpendicular to the x-axis has\n",
    "area A(x) = 1/(x + 3). Find the volume of the solid.\n",
    "\n",
    "(c) Write, but do not evaluate, an integral expression that gives the volume of the solid generated when R is\n",
    "rotated about the horizontal line y = 6. "
   ]
  }
 ],
 "metadata": {
  "kernelspec": {
   "display_name": "Python 3.9.13 64-bit (microsoft store)",
   "language": "python",
   "name": "python3"
  },
  "language_info": {
   "name": "python",
   "version": "3.9.13"
  },
  "orig_nbformat": 4,
  "vscode": {
   "interpreter": {
    "hash": "260dee7956bb90417b93d15a48640bfb34c75f27c1c396b243529dc297b6d7ef"
   }
  }
 },
 "nbformat": 4,
 "nbformat_minor": 2
}
