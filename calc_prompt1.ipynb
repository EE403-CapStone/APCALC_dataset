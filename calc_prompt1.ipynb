{
 "cells": [
  {
   "cell_type": "markdown",
   "metadata": {},
   "source": [
    "# metadata: \n",
    "- AP CALC AB\n",
    "- 2021\n",
    "- Q2\n",
    "\n",
    "# Prompt\n",
    "\n",
    "A particle, P, is moving along the x-axis. The velocity of particle P at time t is given by vp(t) = sin(t^1.5)\n",
    "for 0< t < pi. At time t = 0, particle P is at position x = 5.\n",
    "A second particle, Q, also moves along the x-axis. The velocity of particle Q at time t is given by\n",
    "vq(t) = (1-1.8)*1.25^t for 0 < t < pi. At time t = 0, particle Q is at position x = 10. \n",
    "\n",
    "(a) Find the positions of particles P and Q at time t = 1.\n",
    "\n",
    "(b) Are particles P and Q moving toward each other or away from each other at time t = 1 ? Explain your\n",
    "reasoning.\n",
    "\n",
    "(c) Find the acceleration of particle Q at time t = 1. Is the speed of particle Q increasing or decreasing at\n",
    "time t = 1 ? Explain your reasoning.\n",
    "\n",
    "(d) Find the total distance traveled by particle P over the time interval 0 < t < pi. "
   ]
  },
  {
   "cell_type": "markdown",
   "metadata": {},
   "source": [
    "User: What do I need to know to start part a\n",
    "\n",
    "Mathilda: A function of position can be expressed as xo+int(v(t),dt) where xo is position at t=0 and v(t) is the velocity of of a particle. int(v(t),dt) is the net change in position after t=0. "
   ]
  },
  {
   "cell_type": "markdown",
   "metadata": {},
   "source": [
    "User: How do I setup the expression to solve for part a\n",
    "\n",
    "Mathilda: xp(t=1) = int(vp(t),0,1,dt)+5\n",
    "\n",
    "xq(t=1) = int(vq(t),0,1,dt)+10"
   ]
  },
  {
   "cell_type": "markdown",
   "metadata": {},
   "source": [
    "User: Can you explain part c in more detail.\n",
    "\n",
    "Mathilda: Part c first asks for the the accelerration of particle Q at t=1. This can be done using aq(1) = vq'(1). Where aq is acceleration of Q and vq' is the derivative of velocity of Q.\n",
    "\n",
    "To determine if the particle is accelerating or deccelerating one needs to compare the signs of velocity and accelerration. Matching signs indicate that the particle is acclerrating. Mismatching signs indicate that the particle is deccelerrating. "
   ]
  },
  {
   "cell_type": "markdown",
   "metadata": {},
   "source": [
    "User: How can I setup an expression for part d\n",
    "\n",
    "Mathilda: int(vp(t),0,pi,dt)+xo"
   ]
  }
 ],
 "metadata": {
  "kernelspec": {
   "display_name": "Python 3.9.13 64-bit (microsoft store)",
   "language": "python",
   "name": "python3"
  },
  "language_info": {
   "name": "python",
   "version": "3.9.13"
  },
  "orig_nbformat": 4,
  "vscode": {
   "interpreter": {
    "hash": "260dee7956bb90417b93d15a48640bfb34c75f27c1c396b243529dc297b6d7ef"
   }
  }
 },
 "nbformat": 4,
 "nbformat_minor": 2
}
