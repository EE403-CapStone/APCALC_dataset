{
 "cells": [
  {
   "cell_type": "markdown",
   "metadata": {},
   "source": [
    "# metadata: \n",
    "- AP CALC AB\n",
    "- 2021\n",
    "- Q2\n",
    "\n",
    "# Prompt\n",
    "\n",
    "A particle, P, is moving along the x-axis. The velocity of particle P at time t is given by vp(t) = sin(t^1.5)\n",
    "for 0< t < pi. At time t = 0, particle P is at position x = 5.\n",
    "A second particle, Q, also moves along the x-axis. The velocity of particle Q at time t is given by\n",
    "vq(t) = (1-1.8)*1.25^t for 0 < t < pi. At time t = 0, particle Q is at position x = 10. \n",
    "\n",
    "(a) Find the positions of particles P and Q at time t = 1.\n",
    "\n",
    "(b) Are particles P and Q moving toward each other or away from each other at time t = 1 ? Explain your\n",
    "reasoning.\n",
    "\n",
    "(c) Find the acceleration of particle Q at time t = 1. Is the speed of particle Q increasing or decreasing at\n",
    "time t = 1 ? Explain your reasoning.\n",
    "\n",
    "(d) Find the total distance traveled by particle P over the time interval 0 < t < pi. "
   ]
  }
 ],
 "metadata": {
  "kernelspec": {
   "display_name": "Python 3.9.13 64-bit (microsoft store)",
   "language": "python",
   "name": "python3"
  },
  "language_info": {
   "name": "python",
   "version": "3.9.13"
  },
  "orig_nbformat": 4,
  "vscode": {
   "interpreter": {
    "hash": "260dee7956bb90417b93d15a48640bfb34c75f27c1c396b243529dc297b6d7ef"
   }
  }
 },
 "nbformat": 4,
 "nbformat_minor": 2
}
