{
 "cells": [
  {
   "attachments": {},
   "cell_type": "markdown",
   "metadata": {},
   "source": [
    "# metadata: \n",
    "- AP CALC AB\n",
    "- 2010\n",
    "- Q2\n",
    "\n",
    "# Prompt\n",
    "\n",
    "t: [0, 2, 5, 7, 8]\n",
    "E(t): [0, 4, 13, 21, 23]\n",
    "\n",
    "A zoo sponsored a one-day contest to name a new baby elephant. Zoo visitors deposited entries in a special box \n",
    "between noon ( ) t = 0 and 8 P.M. ( ) t = 8 . The number of entries in the box t hours after noon is modeled by a \n",
    "differentiable function E for 0 ≤ t ≤ 8. Values of E( )t , in hundreds of entries, at various times t are shown in \n",
    "the table above. \n",
    "\n",
    "(a) Use the data in the table to approximate the rate, in hundreds of entries per hour, at which entries were being \n",
    "deposited at time 6. t = Show the computations that lead to your answer. \n",
    "\n",
    "(b) Use a trapezoidal sum with the four subintervals given by the table to approximate the value of ( )\n",
    "8\n",
    "0\n",
    "1 . 8 E t dt ∫\n",
    "Using correct units, explain the meaning of ( )\n",
    "8\n",
    "0\n",
    "1\n",
    "8 E t dt ∫ in terms of the number of entries. \n",
    "\n",
    "(c) At 8 P.M., volunteers began to process the entries. They processed the entries at a rate modeled by the function \n",
    "P, where ( ) 3 2 Pt t t t =− + − 30 298 976 hundreds of entries per hour for 8 ≤ t ≤ 12 According to the model, \n",
    "how many entries had not yet been processed by midnight () t = 12 ?\n",
    "\n",
    "(d) According to the model from part (c), at what time were the entries being processed most quickly? Justify \n",
    "your answer. \n"
   ]
  }
 ],
 "metadata": {
  "kernelspec": {
   "display_name": "Python 3.10.8 64-bit (microsoft store)",
   "language": "python",
   "name": "python3"
  },
  "language_info": {
   "name": "python",
   "version": "3.10.8"
  },
  "orig_nbformat": 4,
  "vscode": {
   "interpreter": {
    "hash": "7536d7b229462f4296d4c0dae49c3bd6cd3990c783d6b9d88ce3c31a78605890"
   }
  }
 },
 "nbformat": 4,
 "nbformat_minor": 2
}
