{
 "cells": [
  {
   "cell_type": "markdown",
   "metadata": {},
   "source": [
    "# metadata: \n",
    "- AP CALC AB\n",
    "- 2017\n",
    "- Q2\n",
    "\n",
    "# Prompt\n",
    "\n",
    "When a certain grocery store opens, it has 50 pounds of bananas on a display table. Customers remove\n",
    "bananas from the display table at a rate modeled by\n",
    "\n",
    "f(t) = 10+(.8*t)*sin(t^3/100) 0< t< 12\n",
    "\n",
    "where f(t) is measured in pounds per hour and t is the number of hours after the store opened. After the store has been open for three hours, store employees add bananas to the display table at a rate modeled by g(t)=3+2.4*ln(t^2+2*t) for 3 < t < 12, where g(t) is measured in pounds per hour and t is the number of hours after the store opened.\n",
    "\n",
    "(a) How many pounds of bananas are removed from the display table during the first 2 hours the store is open?\n",
    "\n",
    "(b)\t Find f'(7). Using correct units, explain the meaning of f'(7) in the context of the problem.\n",
    "\n",
    "(c) Is the number of pounds of bananas on the display table increasing or decreasing at time t=5 ? Give a reason for your answer.\n",
    "\n",
    "(d)\t How many pounds of bananas are on the display table at time t = 8 ? "
   ]
  },
  {
   "attachments": {},
   "cell_type": "markdown",
   "metadata": {},
   "source": [
    "## Conversation\n",
    "\n",
    "User: how to find the number during the first 2 hours in part(a)\n",
    "\n",
    "Mathilda: integral of the rate function between 2 and 0."
   ]
  },
  {
   "attachments": {},
   "cell_type": "markdown",
   "metadata": {},
   "source": [
    "## Conversation\n",
    "\n",
    "User: how to find f'(x) and what is the meaning?\n",
    "\n",
    "Mathilda: substitute x with the number given in f'(X), and the meaning is the rate after 7 hours."
   ]
  },
  {
   "attachments": {},
   "cell_type": "markdown",
   "metadata": {},
   "source": [
    "## Conversation\n",
    "\n",
    "User: how to decide decreasing or increaseing at time x in part(c)?\n",
    "\n",
    "Mathilda: substitute x and subtract, g(x) - f(x), if the number is smaller than 0, it is decreasing. If the number is bigger than 0, it is increasing."
   ]
  },
  {
   "attachments": {},
   "cell_type": "markdown",
   "metadata": {},
   "source": [
    "## Conversation\n",
    "\n",
    "User: how to find the number at time x in part (d)?\n",
    "\n",
    "Mathilda: use the initial number add the number employees add, and subtract the number consumers remove, use the function integral to calculate the add part and remove part. "
   ]
  }
 ],
 "metadata": {
  "kernelspec": {
   "display_name": "Python 3.10.8 64-bit (microsoft store)",
   "language": "python",
   "name": "python3"
  },
  "language_info": {
   "name": "python",
   "version": "3.10.8"
  },
  "orig_nbformat": 4,
  "vscode": {
   "interpreter": {
    "hash": "7536d7b229462f4296d4c0dae49c3bd6cd3990c783d6b9d88ce3c31a78605890"
   }
  }
 },
 "nbformat": 4,
 "nbformat_minor": 2
}
