{
 "cells": [
  {
   "cell_type": "markdown",
   "metadata": {},
   "source": [
    "# metadata: \n",
    "- AP CALC AB\n",
    "- 2017\n",
    "- Q2\n",
    "\n",
    "# Prompt\n",
    "\n",
    "When a certain grocery store opens, it has 50 pounds of bananas on a display table. Customers remove\n",
    "bananas from the display table at a rate modeled by\n",
    "where f t( ) is measured in pounds per hour and t is the number of hours after the store opened. After the\n",
    "store has been open for three hours, store employees add bananas to the display table at a rate modeled by\n",
    "gt () = + 3 2.4 ln( 2 t + 2t )for 3 < £t 12,\n",
    "where g t( ) is measured in pounds per hour and t is the number of hours after the store opened.\n",
    "(a) How many pounds of bananas are removed from the display table during the first 2 hours the store is\n",
    "open?\n",
    "(b)\t Find f ¢( )7 .\t Using correct units, explain the meaning of f ¢( )7 in the context of the problem.\n",
    "(c) Is the number of pounds of bananas on the display table increasing or decreasing at time t = 5 ? Give a\n",
    "reason for your answer.\n",
    "(d)\t How many pounds of bananas are on the display table at time t = 8 ? "
   ]
  }
 ],
 "metadata": {
  "language_info": {
   "name": "python"
  },
  "orig_nbformat": 4
 },
 "nbformat": 4,
 "nbformat_minor": 2
}
