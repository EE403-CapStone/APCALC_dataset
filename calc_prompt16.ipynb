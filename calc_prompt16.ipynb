{
 "cells": [
  {
   "cell_type": "markdown",
   "metadata": {},
   "source": [
    "# metadata: \n",
    "- AP CALC AB\n",
    "- 2017\n",
    "- Q2\n",
    "\n",
    "# Prompt\n",
    "\n",
    "When a certain grocery store opens, it has 50 pounds of bananas on a display table. Customers remove\n",
    "bananas from the display table at a rate modeled by\n",
    "\n",
    "f(t) = 10+(.8*t)*sin(t^3/100) 0< t< 12\n",
    "\n",
    "where f(t) is measured in pounds per hour and t is the number of hours after the store opened. After the store has been open for three hours, store employees add bananas to the display table at a rate modeled by g(t)=3+2.4*ln(t^2+2*t) for 3 < t < 12, where g(t) is measured in pounds per hour and t is the number of hours after the store opened.\n",
    "\n",
    "(a) How many pounds of bananas are removed from the display table during the first 2 hours the store is open?\n",
    "\n",
    "(b)\t Find f'(7). Using correct units, explain the meaning of f'(7) in the context of the problem.\n",
    "\n",
    "(c) Is the number of pounds of bananas on the display table increasing or decreasing at time t=5 ? Give a reason for your answer.\n",
    "\n",
    "(d)\t How many pounds of bananas are on the display table at time t = 8 ? "
   ]
  }
 ],
 "metadata": {
  "language_info": {
   "name": "python"
  },
  "orig_nbformat": 4
 },
 "nbformat": 4,
 "nbformat_minor": 2
}
