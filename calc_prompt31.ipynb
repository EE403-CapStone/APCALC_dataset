{
 "cells": [
  {
   "cell_type": "code",
   "execution_count": null,
   "metadata": {},
   "outputs": [],
   "source": []
  },
  {
   "attachments": {},
   "cell_type": "markdown",
   "metadata": {},
   "source": [
    "# metadata: \n",
    "- AP CALC AB\n",
    "- 2013\n",
    "- Q6\n",
    "\n",
    "# Prompt\n",
    "\n",
    "Consider the differential equation   2 3 6. dy y ex x dx   Let y f   x be the particular solution to the \n",
    "differential equation that passes through 1, 0 .\n",
    "\n",
    "(a) Write an equation for the line tangent to the graph of f at the point 1, 0 . Use the tangent line to \n",
    "approximate f 1.2 .\n",
    "\n",
    "(b) Find y f   x, the particular solution to the differential equation that passes through 1, 0 ."
   ]
  }
 ],
 "metadata": {
  "language_info": {
   "name": "python"
  },
  "orig_nbformat": 4
 },
 "nbformat": 4,
 "nbformat_minor": 2
}
