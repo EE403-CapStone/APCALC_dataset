{
 "cells": [
  {
   "attachments": {},
   "cell_type": "markdown",
   "metadata": {},
   "source": [
    "# metadata: \n",
    "- AP CALC AB\n",
    "- 2013\n",
    "- Q6\n",
    "\n",
    "# Prompt\n",
    "\n",
    "Consider the differential equation dy/dx=e^y*(3*x^2-6*x). Let y=f(x) be the particular solution to the differential equation that passes through (1, 0).\n",
    "\n",
    "(a) Write an equation for the line tangent to the graph of f at the point (1, 0). Use the tangent line to approximate f(1.2).\n",
    "\n",
    "(b) Find y=f(x), the particular solution to the differential equation that passes through (1,0)."
   ]
  }
 ],
 "metadata": {
  "language_info": {
   "name": "python"
  },
  "orig_nbformat": 4
 },
 "nbformat": 4,
 "nbformat_minor": 2
}
