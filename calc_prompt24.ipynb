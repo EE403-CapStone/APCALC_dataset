{
 "cells": [
  {
   "cell_type": "markdown",
   "metadata": {},
   "source": [
    "# metadata: \n",
    "- AP CALC BC\n",
    "- 2021\n",
    "- Q1\n",
    "\n",
    "# Prompt\n",
    "\n",
    "r = [0, 1, 2, 2.5, 4]\n",
    "\n",
    "f(r) = [1, 2, 6, 10, 18]\n",
    "\n",
    "The density of a bacteria population in a circular petri dish at a distance r centimeters from the center of the dish is given by an increasing, differentiable function f , where f(r) is measured in milligrams per square centimeter. Values of f(r) for selected values of r are given in the table above.\n",
    "\n",
    "(a) Use the data in the table to estimate f(2.25). Using correct units, interpret the meaning of your answer in the context of this problem.\n",
    "\n",
    "(b) The total mass, in milligrams, of bacteria in the petri dish is given by the integral expression 2*pi*int(r*f(r), 0, 4, dr). Approximate the value of 2*pi*int(r*f(r), 0, 4, dr) using a right Riemann sum with the four subintervals indicated by the data in the table.\n",
    "\n",
    "(c) Is the approximation found in part (b) an overestimate or underestimate of the total mass of bacteria in the\n",
    "petri dish? Explain your reasoning.\n",
    "\n",
    "(d) The density of bacteria in the petri dish, for 1 < r  4, is modeled by the function g defined by g(r) =  2 − 16*(cos(1.57*(2)^(1/2))^3. For what value of k , 1 < k < 4, is g(k) equal to the average value of g(r) on the interval 1 < r < 4 ? "
   ]
  }
 ],
 "metadata": {
  "language_info": {
   "name": "python"
  },
  "orig_nbformat": 4
 },
 "nbformat": 4,
 "nbformat_minor": 2
}
