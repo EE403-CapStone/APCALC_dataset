{
 "cells": [
  {
   "cell_type": "markdown",
   "metadata": {},
   "source": [
    "# metadata: \n",
    "- AP CALC AB\n",
    "- 2016\n",
    "- Q1\n",
    "\n",
    "# Prompt\n",
    "\n",
    "t = [0, 1, 3, 6, 8]\n",
    "\n",
    "R(t) = [1340, 1190, 950, 740, 700]\n",
    "\n",
    "Water is pumped into a tank at a rate modeled by W(t)=2000*e^(-t^2/20) liters per hour for 0 < t < 8, where t is measured in hours. Water is removed from the tank at a rate modeled by R(t) liters per hour, where R is differentiable and decreasing on 0< t< 8. Selected values of R(t) are shown in the table above. At time t=0, there are 50,000 liters of water in the tank. \n",
    "\n",
    "(a) Estimate R(2). Show the work that leads to your answer. Indicate units of measure. \n",
    "\n",
    "(b) Use a left Riemann sum with the four subintervals indicated by the table to estimate the total amount of water removed from the tank during the 8 hours. Is this an overestimate or an underestimate of the total amount of water removed? Give a reason for your answer. \n",
    "\n",
    "(c) Use your answer from part (b) to find an estimate of the total amount of water in the tank, to the nearest liter, at the end of 8 hours. \n",
    "\n",
    "(d) For 0< t<8, is there a time t when the rate at which water is pumped into the tank is the same as the rate at which water is removed from the tank? Explain why or why not. "
   ]
  }
 ],
 "metadata": {
  "language_info": {
   "name": "python"
  },
  "orig_nbformat": 4
 },
 "nbformat": 4,
 "nbformat_minor": 2
}
