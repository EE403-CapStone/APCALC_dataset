{
 "cells": [
  {
   "attachments": {},
   "cell_type": "markdown",
   "metadata": {},
   "source": [
    "# metadata: \n",
    "- AP CALC AB\n",
    "- 2011\n",
    "- Q2\n",
    "\n",
    "# Prompt\n",
    "\n",
    "t: [0, 2, 5, 9, 10]\n",
    "\n",
    "H(t): [66, 60, 52, 44, 43]\n",
    "\n",
    "As a pot of tea cools, the temperature of the tea is modeled by a differentiable function H for 0<= t <= 10 where time t is measured in minutes and temperature H(t) is measured in degrees Celsius. Values of H(t) at selected values of time t are shown in the table above. \n",
    "\n",
    "(a) Use the data in the table to approximate the rate at which the temperature of the tea is changing at time t = 3.5. Show the computations that lead to your answer. \n",
    "\n",
    "(b) Using correct units, explain the meaning of 1/10*int(H(t), 0, 10, dt) in the context of this problem. Use a trapezoidal sum with the four subintervals indicated by the table to estimate 1/10*int(H(t), 0, 10, dt).\n",
    "\n",
    "(c) Evaluate int(H'(t), 0, 10, dt). Using correct units, explain the meaning of the expression in the context of this problem. \n",
    "\n",
    "(d) At time t = 0, biscuits with temperature 100 C° were removed from an oven. The temperature of the biscuits at time t is modeled by a differentiable function B for which it is known that B'(t)=-13.84*e^(-.173*t). Using the given models, at time t = 10, how much cooler are the biscuits than the tea?\n"
   ]
  }
 ],
 "metadata": {
  "kernelspec": {
   "display_name": "Python 3.10.8 64-bit (microsoft store)",
   "language": "python",
   "name": "python3"
  },
  "language_info": {
   "name": "python",
   "version": "3.10.8"
  },
  "orig_nbformat": 4,
  "vscode": {
   "interpreter": {
    "hash": "7536d7b229462f4296d4c0dae49c3bd6cd3990c783d6b9d88ce3c31a78605890"
   }
  }
 },
 "nbformat": 4,
 "nbformat_minor": 2
}
