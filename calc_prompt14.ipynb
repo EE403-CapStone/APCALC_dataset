{
 "cells": [
  {
   "cell_type": "markdown",
   "metadata": {},
   "source": [
    "# metadata: \n",
    "- AP CALC AB\n",
    "- 2018\n",
    "- Q6\n",
    "\n",
    "# Prompt\n",
    "\n",
    "Consider the differential equation dy/dx = 1/3*x(y-2)^2\n",
    "\n",
    "(b) Let y = f x ( ) be the particular solution to the given differential equation with initial condition f ( )1 = 0.\n",
    "Write an equation for the line tangent to the graph of y = f ( )x at x = 1. Use your equation to\n",
    "approximate f (0.7).\n",
    "(c) Find the particular solution y = f x ( ) to the given differential equation with initial condition f ( )1 = 0."
   ]
  }
 ],
 "metadata": {
  "kernelspec": {
   "display_name": "Python 3.9.13 64-bit (microsoft store)",
   "language": "python",
   "name": "python3"
  },
  "language_info": {
   "name": "python",
   "version": "3.9.13"
  },
  "orig_nbformat": 4,
  "vscode": {
   "interpreter": {
    "hash": "260dee7956bb90417b93d15a48640bfb34c75f27c1c396b243529dc297b6d7ef"
   }
  }
 },
 "nbformat": 4,
 "nbformat_minor": 2
}
