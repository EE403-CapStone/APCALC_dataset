{
 "cells": [
  {
   "cell_type": "markdown",
   "metadata": {},
   "source": [
    "# metadata: \n",
    "- AP CALC AB\n",
    "- 2019\n",
    "- Q1\n",
    "\n",
    "# Prompt\n",
    "Fish enter a lake at a rate modeled by the function E given by E(t) = 20 + 15*sin(pi*t/6). Fish leave the lake at a rate modeled by the function L given by L(t) = 4+2^(.1*t^2). Both E(t) and L(t) are measured in fish per\n",
    "hour, and t is measured in hours since midnight (t = 0).\n",
    "\n",
    "(a) How many fish enter the lake over the 5-hour period from midnight (t = 0) to 5 A.M. (t = 5) ? Give your\n",
    "answer to the nearest whole number.\n",
    "\n",
    "(b) What is the average number of fish that leave the lake per hour over the 5-hour period from\n",
    "midnight (t = 0) to 5 A.M. (t = 5) ?\n",
    "\n",
    "(c) At what time t, for 0< t< 8, is the greatest number of fish in the lake? Justify your answer.\n",
    "\n",
    "(d) Is the rate of change in the number of fish in the lake increasing or decreasing at 5 A.M. (t = 5) ? Explain your reasoning. "
   ]
  }
 ],
 "metadata": {
  "language_info": {
   "name": "python"
  },
  "orig_nbformat": 4
 },
 "nbformat": 4,
 "nbformat_minor": 2
}
