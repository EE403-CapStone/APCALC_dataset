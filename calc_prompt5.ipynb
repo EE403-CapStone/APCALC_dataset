{
 "cells": [
  {
   "cell_type": "markdown",
   "metadata": {},
   "source": [
    "# metadata: \n",
    "- AP CALC AB\n",
    "- 2019\n",
    "- Q1\n",
    "\n",
    "# Prompt\n",
    "Fish enter a lake at a rate modeled by the function E given by\n",
    "p t\n",
    "E t( ) = 20 + 15 sin( 6 ). Fish leave the lake at\n",
    "a rate modeled by the function L given by Lt 4 20.1t\n",
    "2\n",
    "( ) = + . Both E t( ) and L t( ) are measured in fish per\n",
    "hour, and t is measured in hours since midnight (t = 0).\n",
    "(a) How many fish enter the lake over the 5-hour period from midnight (t = 0) to 5 A.M. (t = 5) ? Give your\n",
    "answer to the nearest whole number.\n",
    "(b) What is the average number of fish that leave the lake per hour over the 5-hour period from\n",
    "midnight (t = 0) to 5 A.M. (t = 5) ?\n",
    "(c) At what time t, for 0 £ £t 8, is the greatest number of fish in the lake? Justify your answer.\n",
    "(d) Is the rate of change in the number of fish in the lake increasing or decreasing at 5 A.M. (t = 5) ? Explain\n",
    "your reasoning. "
   ]
  }
 ],
 "metadata": {
  "language_info": {
   "name": "python"
  },
  "orig_nbformat": 4
 },
 "nbformat": 4,
 "nbformat_minor": 2
}
