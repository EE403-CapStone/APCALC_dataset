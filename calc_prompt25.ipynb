{
 "cells": [
  {
   "cell_type": "code",
   "execution_count": null,
   "metadata": {},
   "outputs": [],
   "source": []
  },
  {
   "attachments": {},
   "cell_type": "markdown",
   "metadata": {},
   "source": [
    "# metadata: \n",
    "- AP CALC AB\n",
    "- 2014\n",
    "- Q5\n",
    "\n",
    "# Prompt\n",
    "\n",
    "x −2 − < <− 2 1 x −1 −< < 1 1 x 1 1 3 < < x 3\n",
    "\n",
    "f x( ) 12 Positive 8 Positive 2 Positive 7\n",
    "\n",
    "f x ′( ) −5 Negative 0 Negative 0 Positive 1\n",
    "2\n",
    "\n",
    "g x( ) −1 Negative 0 Positive 3 Positive 1\n",
    "\n",
    "g x ′( ) 2 Positive 3\n",
    "\n",
    "2 Positive 0 Negative −2\n",
    "\n",
    "The twice-differentiable functions f and g are defined for all real numbers x. Values of f, f ′, g, and g′ for \n",
    "various values of x are given in the table above. \n",
    "\n",
    "(a) Find the x-coordinate of each relative minimum of f on the interval [−2, 3 .] Justify your answers.\n",
    "\n",
    "(b) Explain why there must be a value c, for −< < 1 1, c such that f c ′′( ) = 0.\n",
    "\n",
    "(c) The function h is defined by hx f x ( ) = ln . ( ( )) Find h′(3 .) Show the computations that lead to your \n",
    "answer.\n",
    "\n",
    "(d) Evaluate ( ( )) ( ) 3\n",
    "2 f g x g x dx."
   ]
  }
 ],
 "metadata": {
  "kernelspec": {
   "display_name": "Python 3.9.13 64-bit (microsoft store)",
   "language": "python",
   "name": "python3"
  },
  "language_info": {
   "name": "python",
   "version": "3.9.13"
  },
  "orig_nbformat": 4,
  "vscode": {
   "interpreter": {
    "hash": "260dee7956bb90417b93d15a48640bfb34c75f27c1c396b243529dc297b6d7ef"
   }
  }
 },
 "nbformat": 4,
 "nbformat_minor": 2
}
