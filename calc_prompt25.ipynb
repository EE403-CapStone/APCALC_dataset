{
 "cells": [
  {
   "attachments": {},
   "cell_type": "markdown",
   "metadata": {},
   "source": [
    "# metadata: \n",
    "- AP CALC AB\n",
    "- 2014\n",
    "- Q5\n",
    "\n",
    "# Prompt\n",
    "\n",
    "x = [-2, (-2,-1), -1, (-1,1), 1, (1, 3), 3]\n",
    "\n",
    "f(x) = [12, >0, 8, >0, 2, >0, 7]\n",
    "\n",
    "f'(x) = [-5, <0, 0, <0, 0, >0, 1/2]\n",
    "\n",
    "g(x) = [-1, <0, 0, >0, 3, >0, 1]\n",
    "\n",
    "g'(x) = [2, >0, 3/2, >0, 0, <0, -2]\n",
    "\n",
    "\n",
    "The twice-differentiable functions f and g are defined for all real numbers x. Values of f, f', g, and g' for various values of x are given in the table above. \n",
    "\n",
    "(a) Find the x-coordinate of each relative minimum of f on the interval [−2, 3]. Justify your answers.\n",
    "\n",
    "(b) Explain why there must be a value c, for -1< c < 1 such that f''(c) = 0.\n",
    "\n",
    "(c) The function h is defined by hx f(x) = ln(f(x)) Find h'(3). Show the computations that lead to your answer.\n",
    "\n",
    "(d) Evaluate int(f'(g(x))*g'(x), -2, 3, dx)"
   ]
  }
 ],
 "metadata": {
  "kernelspec": {
   "display_name": "Python 3.8.2 64-bit",
   "language": "python",
   "name": "python3"
  },
  "language_info": {
   "name": "python",
   "version": "3.8.2"
  },
  "orig_nbformat": 4,
  "vscode": {
   "interpreter": {
    "hash": "31f2aee4e71d21fbe5cf8b01ff0e069b9275f58929596ceb00d14d90e3e16cd6"
   }
  }
 },
 "nbformat": 4,
 "nbformat_minor": 2
}
