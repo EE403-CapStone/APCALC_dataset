{
 "cells": [
  {
   "cell_type": "code",
   "execution_count": null,
   "metadata": {},
   "outputs": [],
   "source": []
  },
  {
   "attachments": {},
   "cell_type": "markdown",
   "metadata": {},
   "source": [
    "# metadata: \n",
    "- AP CALC AB\n",
    "- 2013\n",
    "- Q2\n",
    "\n",
    "# Prompt\n",
    "\n",
    "A particle moves along a straight line. For 0 5,  t  the velocity of the particle is given by \n",
    "   6 5 2 3 vt t t t     23 , and the position of the particle is given by st. It is known that s0 10.  \n",
    "\n",
    "(a) Find all values of t in the interval 2 4  t for which the speed of the particle is 2. \n",
    "\n",
    "(b) Write an expression involving an integral that gives the position st. Use this expression to find the \n",
    "position of the particle at time t  5.\n",
    "\n",
    "(c) Find all times t in the interval 0 5  t at which the particle changes direction. Justify your answer. \n",
    "\n",
    "(d) Is the speed of the particle increasing or decreasing at time t  4 ? Give a reason for your answer. "
   ]
  }
 ],
 "metadata": {
  "language_info": {
   "name": "python"
  },
  "orig_nbformat": 4
 },
 "nbformat": 4,
 "nbformat_minor": 2
}
