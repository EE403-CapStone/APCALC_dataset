{
 "cells": [
  {
   "cell_type": "markdown",
   "metadata": {},
   "source": [
    "# metadata: \n",
    "- AP CALC AB\n",
    "- 2019\n",
    "- Q6\n",
    "\n",
    "# Prompt\n",
    "\n",
    "Functions f, g, and h are twice-differentiable functions with g() 2 = h( )2 = 4. The line\n",
    "2\n",
    "y = + 4 2 ( −x\n",
    "3 ) is\n",
    "tangent to both the graph of g at x = 2 and the graph of h at x = 2.\n",
    "(a) Find h¢(2).\n",
    "(b) Let a be the function given by ax () = 3xhx 3 ( ). Write an expression for a¢(x). Find a ¢(2).\n",
    "(c) The function h satisfies\n",
    "2\n",
    "x − 4\n",
    "h x( ) = 1 − ( ( )) fx 3 for x π 2. It is known that lim h x( x →2\n",
    ") can be evaluated using\n",
    "L’Hospital’s Rule. Use lim h x( x→2\n",
    ") to find f(2 ) and f ¢(2 ). Show the work that leads to your answers.\n",
    "(d) It is known that gx hx £ (( ) ) for 1 < x < 3. Let k be a function satisfying gx ( ) £ kx () £ h x( ) for\n",
    "1 < x < 3. Is k continuous at x = 2 ? Justify your answer. "
   ]
  }
 ],
 "metadata": {
  "kernelspec": {
   "display_name": "Python 3.9.13 64-bit (microsoft store)",
   "language": "python",
   "name": "python3"
  },
  "language_info": {
   "name": "python",
   "version": "3.9.13"
  },
  "orig_nbformat": 4,
  "vscode": {
   "interpreter": {
    "hash": "260dee7956bb90417b93d15a48640bfb34c75f27c1c396b243529dc297b6d7ef"
   }
  }
 },
 "nbformat": 4,
 "nbformat_minor": 2
}
