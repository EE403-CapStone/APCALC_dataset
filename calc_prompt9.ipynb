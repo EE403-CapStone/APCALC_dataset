{
 "cells": [
  {
   "cell_type": "markdown",
   "metadata": {},
   "source": [
    "# metadata: \n",
    "- AP CALC AB\n",
    "- 2019\n",
    "- Q6\n",
    "\n",
    "# Prompt\n",
    "\n",
    "Functions f, g, and h are twice-differentiable functions with g(2) = h(2)= 4. The line y=4+2/3*(x-2) is\n",
    "tangent to both the graph of g at x = 2 and the graph of h at x = 2.\n",
    "\n",
    "(a) Find h'(2).\n",
    "\n",
    "(b) Let a be the function given by a(x)= 3*x^3*h(x) Write an expression for a'(x). Find a'(2).\n",
    "\n",
    "(c) The function h satisfies h(x)=(x^2-4)/(1-(f(x))^3). It is known that lim(h(x),x->2) can be evaluated using\n",
    "L’Hospital’s Rule. Use lim(h(x),x->2) to find f(2) and f'(2). Show the work that leads to your answers.\n",
    "\n",
    "(d) It is known that g(x)< h(x) for 1 < x < 3. Let k be a function satisfying g(x) < k(x) < h(x) for\n",
    "1 < x < 3. Is k continuous at x = 2 ? Justify your answer. "
   ]
  }
 ],
 "metadata": {
  "kernelspec": {
   "display_name": "Python 3.9.13 64-bit (microsoft store)",
   "language": "python",
   "name": "python3"
  },
  "language_info": {
   "name": "python",
   "version": "3.9.13"
  },
  "orig_nbformat": 4,
  "vscode": {
   "interpreter": {
    "hash": "260dee7956bb90417b93d15a48640bfb34c75f27c1c396b243529dc297b6d7ef"
   }
  }
 },
 "nbformat": 4,
 "nbformat_minor": 2
}
