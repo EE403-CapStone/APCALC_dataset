{
 "cells": [
  {
   "cell_type": "code",
   "execution_count": null,
   "metadata": {},
   "outputs": [],
   "source": []
  },
  {
   "attachments": {},
   "cell_type": "markdown",
   "metadata": {},
   "source": [
    "# metadata: \n",
    "- AP CALC AB\n",
    "- 2011\n",
    "- Q5\n",
    "\n",
    "# Prompt\n",
    "\n",
    "t: [0, 10, 40, 60]\n",
    "\n",
    "E(t): [100, 136, 9, 49]\n",
    "\n",
    "v(t): [2.0, 2.3, 2.5, 4.6]\n",
    "\n",
    "Ben rides a unicycle back and forth along a straight east-west track. The twice-differentiable function B models \n",
    "Ben’s position on the track, measured in meters from the western end of the track, at time t, measured in seconds \n",
    "from the start of the ride. The table above gives values for B(t) and Ben’s velocity, v t( ), measured in meters \n",
    "per second, at selected times t. \n",
    "\n",
    "(a) Use the data in the table to approximate Ben’s acceleration at time t = 5 seconds. Indicate units of measure.\n",
    "\n",
    "(b) Using correct units, interpret the meaning of ( ) 60\n",
    "0\n",
    "v t dt ∫ in the context of this problem. Approximate \n",
    "( ) 60\n",
    "0\n",
    "v t dt ∫ using a left Riemann sum with the subintervals indicated by the data in the table. \n",
    "\n",
    "(c) For 40 60, ≤ ≤t must there be a time t when Ben’s velocity is 2 meters per second? Justify your answer. \n",
    "\n",
    "(d) A light is directly above the western end of the track. Ben rides so that at time t, the distance L t( ) between \n",
    "Ben and the light satisfies ( ) ( ) ( ) ( ) 2 2 2 Lt Bt = + 12 . At what rate is the distance between Ben and the light \n",
    "changing at time t = 40 ?"
   ]
  }
 ],
 "metadata": {
  "language_info": {
   "name": "python"
  },
  "orig_nbformat": 4
 },
 "nbformat": 4,
 "nbformat_minor": 2
}
