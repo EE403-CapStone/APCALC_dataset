{
 "cells": [
  {
   "cell_type": "markdown",
   "metadata": {},
   "source": [
    "# metadata: \n",
    "- AP CALC AB\n",
    "- year\n",
    "- Q#\n",
    "\n",
    "# Prompt\n",
    "\n"
   ]
  },
  {
   "cell_type": "markdown",
   "metadata": {},
   "source": [
    "Generic questions to include\n",
    "\n",
    "User: Explain ...\n",
    "\n",
    "User: In Laymans terms ...\n",
    "\n",
    "User: Explain ...\n",
    "\n",
    "User: How do I start ...\n",
    "\n",
    "User: What do I need to know to solve ...\n",
    "\n",
    "User: I need more explanation on ...\n",
    "\n",
    "User: Can you give me the expressions to compute ...\n"
   ]
  }
 ],
 "metadata": {
  "kernelspec": {
   "display_name": "Python 3.9.13 64-bit (microsoft store)",
   "language": "python",
   "name": "python3"
  },
  "language_info": {
   "name": "python",
   "version": "3.9.13"
  },
  "orig_nbformat": 4,
  "vscode": {
   "interpreter": {
    "hash": "260dee7956bb90417b93d15a48640bfb34c75f27c1c396b243529dc297b6d7ef"
   }
  }
 },
 "nbformat": 4,
 "nbformat_minor": 2
}
