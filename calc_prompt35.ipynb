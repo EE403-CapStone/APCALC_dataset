{
 "cells": [
  {
   "cell_type": "code",
   "execution_count": null,
   "metadata": {},
   "outputs": [],
   "source": []
  },
  {
   "attachments": {},
   "cell_type": "markdown",
   "metadata": {},
   "source": [
    "# metadata: \n",
    "- AP CALC AB\n",
    "- 2012\n",
    "- Q6\n",
    "\n",
    "# Prompt\n",
    "\n",
    "t: [0, 2, 5, 7, 8]\n",
    "E(t): [0, 4, 13, 21, 23]\n",
    "\n",
    "For 0 12, ≤ ≤t a particle moves along the x-axis. The velocity of the particle at time t is given by \n",
    "( ) ( ) cos . 6 vt t π = The particle is at position x = −2 at time t = 0.\n",
    "\n",
    "(a) For 0 12, ≤ ≤t when is the particle moving to the left? \n",
    "\n",
    "(b) Write, but do not evaluate, an integral expression that gives the total distance traveled by the particle from \n",
    "time t = 0 to time t = 6.\n",
    "\n",
    "(c) Find the acceleration of the particle at time t. Is the speed of the particle increasing, decreasing, or neither at \n",
    "time t = 4 ? Explain your reasoning. \n",
    "\n",
    "(d) Find the position of the particle at time t = 4.\n"
   ]
  }
 ],
 "metadata": {
  "language_info": {
   "name": "python"
  },
  "orig_nbformat": 4
 },
 "nbformat": 4,
 "nbformat_minor": 2
}
