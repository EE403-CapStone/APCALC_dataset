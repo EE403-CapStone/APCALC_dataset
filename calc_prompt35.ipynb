{
 "cells": [
  {
   "attachments": {},
   "cell_type": "markdown",
   "metadata": {},
   "source": [
    "# metadata: \n",
    "- AP CALC AB\n",
    "- 2010\n",
    "- Q2\n",
    "\n",
    "# Prompt\n",
    "\n",
    "t: [0, 2, 5, 7, 8]\n",
    "E(t): [0, 4, 13, 21, 23]\n",
    "\n",
    "\n",
    "A zoo sponsored a one-day contest to name a new baby elephant. Zoo visitors deposited entries in a special box between noon (t=8)  and 8 P.M. (t = 8). The number of entries in the box t hours after noon is modeled by a differentiable function E for 0<=t<=8. Values of E(t), in hundreds of entries, at various times t are shown in the table above.\n",
    "\n",
    "(a) Use the data in the table to approximate the rate, in hundreds of entries per hour, at which entries were being deposited at time t=6. Show the computations that lead to your answer. \n",
    "\n",
    "(b) Use a trapezoidal sum with the four subintervals given by the table to approximate the value of 1/8*int(E(t),0,8,dt). Using correct units, explain the meaning of 1/8*int(E(t),0,8,dt) in terms of the number of entries. \n",
    "\n",
    "(c) At 8 P.M., volunteers began to process the entries. They processed the entries at a rate modeled by the function P, where P(t)=t^3-30*t^2+298*t-976 hundreds of entries per hour for 8<=t<=12. According to the model, how many entries had not yet been processed by midnight (t=12). \n",
    "\n",
    "(d) According to the model from part (c), at what time were the entries being processed most quickly? Justify your answer."
   ]
  }
 ],
 "metadata": {
  "language_info": {
   "name": "python"
  },
  "orig_nbformat": 4
 },
 "nbformat": 4,
 "nbformat_minor": 2
}
