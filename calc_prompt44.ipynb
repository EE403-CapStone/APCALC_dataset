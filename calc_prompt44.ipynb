{
 "cells": [
  {
   "attachments": {},
   "cell_type": "markdown",
   "metadata": {},
   "source": [
    "# metadata: \n",
    "- AP CALC AB\n",
    "- 2011\n",
    "- Q1\n",
    "\n",
    "# Prompt\n",
    "\n",
    "For 0<=t<=6 a particle is moving along the x-axis. The particle’s position, x(t), is not explicitly given. The velocity of the particle is given by v(t)=2*sin(e*(t/4))+1 The acceleration of the particle is given by a(t)=1/2*e^(t/4) and x(0)=2\n",
    "\n",
    "(a) Is the speed of the particle increasing or decreasing at time t = 5.5 ? Give a reason for your answer. \n",
    "\n",
    "(b) Find the average velocity of the particle for the time period 0<=t<=6.\n",
    "\n",
    "(c) Find the total distance traveled by the particle from time t = 0 to t = 6.\n",
    "\n",
    "(d) For 0<=t<=6. the particle changes direction exactly once. Find the position of the particle at that time."
   ]
  }
 ],
 "metadata": {
  "kernelspec": {
   "display_name": "Python 3.8.2 64-bit",
   "language": "python",
   "name": "python3"
  },
  "language_info": {
   "name": "python",
   "version": "3.8.2"
  },
  "orig_nbformat": 4,
  "vscode": {
   "interpreter": {
    "hash": "31f2aee4e71d21fbe5cf8b01ff0e069b9275f58929596ceb00d14d90e3e16cd6"
   }
  }
 },
 "nbformat": 4,
 "nbformat_minor": 2
}
