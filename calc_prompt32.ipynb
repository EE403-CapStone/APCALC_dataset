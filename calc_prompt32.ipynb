{
 "cells": [
  {
   "cell_type": "code",
   "execution_count": null,
   "metadata": {},
   "outputs": [],
   "source": []
  },
  {
   "attachments": {},
   "cell_type": "markdown",
   "metadata": {},
   "source": [
    "# metadata: \n",
    "- AP CALC AB\n",
    "- 2013\n",
    "- Q3\n",
    "\n",
    "# Prompt\n",
    "\n",
    "t: [0, 1, 2, 3, 4, 5, 6]\n",
    "E(t): [0, 5.3, 8.8, 11.2, 12.8, 13.8, 14.5]\n",
    "\n",
    "Hot water is dripping through a coffeemaker, filling a large cup with coffee. The amount of coffee in the cup at \n",
    "time t, 0 6,  t is given by a differentiable function C, where t is measured in minutes. Selected values of \n",
    "C t , measured in ounces, are given in the table above. \n",
    "\n",
    "(a) Use the data in the table to approximate C3.5 . Show the computations that lead to your answer, and \n",
    "indicate units of measure. \n",
    "\n",
    "(b) Is there a time t, 2 4,  t at which C t    2 ? Justify your answer. \n",
    "\n",
    "(c) Use a midpoint sum with three subintervals of equal length indicated by the data in the table to approximate \n",
    "the value of   6\n",
    "0\n",
    "1 . 6 C t dt  Using correct units, explain the meaning of   6\n",
    "0\n",
    "1\n",
    "6 C t dt  in the context of the \n",
    "problem. \n",
    "\n",
    "(d) The amount of coffee in the cup, in ounces, is modeled by   0.4 16 16 .t Bt e   Using this model, find the \n",
    "rate at which the amount of coffee in the cup is changing when t  5."
   ]
  }
 ],
 "metadata": {
  "language_info": {
   "name": "python"
  },
  "orig_nbformat": 4
 },
 "nbformat": 4,
 "nbformat_minor": 2
}
