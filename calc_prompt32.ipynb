{
 "cells": [
  {
   "attachments": {},
   "cell_type": "markdown",
   "metadata": {},
   "source": [
    "# metadata: \n",
    "- AP CALC AB\n",
    "- 2013\n",
    "- Q3\n",
    "\n",
    "# Prompt\n",
    "\n",
    "t: [0, 1, 2, 3, 4, 5, 6]\n",
    "C(t): [0, 5.3, 8.8, 11.2, 12.8, 13.8, 14.5]\n",
    "\n",
    "Hot water is dripping through a coffeemaker, filling a large cup with coffee. The amount of coffee in the cup at time t, 2<=t <=6 is given by a differentiable function C, where t is measured in minutes. Selected values of C(t), measured in ounces, are given in the table above. \n",
    "\n",
    "(a) Use the data in the table to approximate C'(3.5) Show the computations that lead to your answer, and indicate units of measure. \n",
    "\n",
    "(b) Is there a time t, 2<= t <= 4 at which C'(t)? Justify your answer. \n",
    "\n",
    "(c) Use a midpoint sum with three subintervals of equal length indicated by the data in the table to approximate the value of 1/6*int(C(t),0,6,dt). Using correct units, explain the meaning of 1/6*int(C(t),0,6,dt) in the context of the problem. \n",
    "\n",
    "(d) The amount of coffee in the cup, in ounces, is modeled by B(t)=16-16*e^(-.4*t). Using this model, find the rate at which the amount of coffee in the cup is changing when t = 5."
   ]
  }
 ],
 "metadata": {
  "language_info": {
   "name": "python"
  },
  "orig_nbformat": 4
 },
 "nbformat": 4,
 "nbformat_minor": 2
}
