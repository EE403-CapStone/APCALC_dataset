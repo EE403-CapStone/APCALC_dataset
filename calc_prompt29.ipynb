{
 "cells": [
  {
   "attachments": {},
   "cell_type": "markdown",
   "metadata": {},
   "source": [
    "# metadata: \n",
    "- AP CALC AB\n",
    "- 2014\n",
    "- Q4\n",
    "\n",
    "# Prompt\n",
    "\n",
    "t: [0, 2, 5, 8, 12]\n",
    "E(t): [0, 100, 40, -120, -150]\n",
    "\n",
    "Train A runs back and forth on an east-west section of \n",
    "railroad track. Train A’s velocity, measured in meters per \n",
    "minute, is given by a differentiable function ( ), Av t where \n",
    "time t is measured in minutes. Selected values for ( ) Av t\n",
    "are given in the table above.\n",
    "\n",
    "(a) Find the average acceleration of train A over the interval 2 8. ≤ ≤t\n",
    "\n",
    "(b) Do the data in the table support the conclusion that train A’s velocity is −100 meters per minute at some time t\n",
    "with 5 8? < <t Give a reason for your answer.\n",
    "\n",
    "(c) At time t = 2, train A’s position is 300 meters east of the Origin Station, and the train is moving to the east. \n",
    "Write an expression involving an integral that gives the position of train A, in meters from the Origin Station, at \n",
    "time t = 12. Use a trapezoidal sum with three subintervals indicated by the table to approximate the position of \n",
    "the train at time t = 12.\n",
    "\n",
    "(d) A second train, train B, travels north from the Origin Station. At time t the velocity of train B is given by \n",
    "( ) 2 5 60 25, Bv t t =− + +t and at time t = 2 the train is 400 meters north of the station. Find the rate, in meters \n",
    "per minute, at which the distance between train A and train B is changing at time t = 2."
   ]
  }
 ],
 "metadata": {
  "kernelspec": {
   "display_name": "Python 3.8.2 64-bit",
   "language": "python",
   "name": "python3"
  },
  "language_info": {
   "name": "python",
   "version": "3.8.2"
  },
  "orig_nbformat": 4,
  "vscode": {
   "interpreter": {
    "hash": "31f2aee4e71d21fbe5cf8b01ff0e069b9275f58929596ceb00d14d90e3e16cd6"
   }
  }
 },
 "nbformat": 4,
 "nbformat_minor": 2
}
