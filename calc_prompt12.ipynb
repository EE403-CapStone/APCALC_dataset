{
 "cells": [
  {
   "cell_type": "markdown",
   "metadata": {},
   "source": [
    "# metadata: \n",
    "- AP CALC AB\n",
    "- 2018\n",
    "- Q4\n",
    "\n",
    "# Prompt\n",
    "The height of a tree at time t is given by a twice-differentiable function H, where H t( ) is measured in meters\n",
    "and t is measured in years. Selected values of H t( ) are given in the table above.\n",
    "(a) Use the data in the table to estimate H¢( )6 . Using correct units, interpret the meaning of H¢(6 ) in the\n",
    "context of the problem.\n",
    "(b) Explain why there must be at least one time t, for 2 < <t 10 , such that Ht ¢( ) = 2.\n",
    "(c) Use a trapezoidal sum with the four subintervals indicated by the data in the table to approximate the\n",
    "average height of the tree over the time interval 2 £ £t 10 .\n",
    "(d) The height of the tree, in meters, can also be modeled by the function G, given by 100x\n",
    "G x( ) = 1 + x\n",
    ", where\n",
    "x is the diameter of the base of the tree, in meters. When the tree is 50 meters tall, the diameter of the\n",
    "base of the tree is increasing at a rate of 0.03 meter per year. According to this model, what is the rate of\n",
    "change of the height of the tree with respect to time, in meters per year, at the time when the tree is\n",
    "50 meters tall? "
   ]
  }
 ],
 "metadata": {
  "kernelspec": {
   "display_name": "Python 3.9.13 64-bit (microsoft store)",
   "language": "python",
   "name": "python3"
  },
  "language_info": {
   "name": "python",
   "version": "3.9.13"
  },
  "orig_nbformat": 4,
  "vscode": {
   "interpreter": {
    "hash": "260dee7956bb90417b93d15a48640bfb34c75f27c1c396b243529dc297b6d7ef"
   }
  }
 },
 "nbformat": 4,
 "nbformat_minor": 2
}
