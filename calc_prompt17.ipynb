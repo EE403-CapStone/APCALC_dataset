{
 "cells": [
  {
   "cell_type": "markdown",
   "metadata": {},
   "source": [
    "# metadata: \n",
    "- AP CALC AB\n",
    "- 2017\n",
    "- Q4\n",
    "\n",
    "# Prompt\n",
    "At time t = 0, a boiled potato is taken from a pot on a stove and left to cool in a kitchen. The internal temperature of the potato is 91 degrees Celsius (°C) at time t = 0, and the internal temperature of the potato is greater than 27 C° for all times t > 0. The internal temperature of the potato at time t minutes can be modeled by the function H that satisfies the differential equation dH/dt = -1/4*(H-27), where H(t) measured in degrees Celsius and H(0) = 91 .\n",
    "\n",
    "(a) Write an equation for the line tangent to the graph of H at t = 0. Use this equation to approximate the internal temperature of the potato at time t = 3.\n",
    "\n",
    "(b) Use to determine whether your answer in part (a) is an underestimate or an overestimate of the\n",
    "internal temperature of the potato at time t = 3.\n",
    "\n",
    "(c) For t < 10, an alternate model for the internal temperature of the potato at time t minutes is the function G that satisfies the differential equation dG/dt=-(G-27)^(2/3), where G(t) is measured in degrees Celsius and G(0) = 91. Find an expression for G(t). Based on this model, what is the internal temperature of the potato at time t = 3 ? \n"
   ]
  },
  {
   "attachments": {},
   "cell_type": "markdown",
   "metadata": {},
   "source": [
    "## Conversation\n",
    "\n",
    "User: how to write the equation for the line tangent to the graph?\n",
    "\n",
    "Mathilda: use the differential equation find the slope first, and make the tangent line with H(x) = y"
   ]
  },
  {
   "attachments": {},
   "cell_type": "markdown",
   "metadata": {},
   "source": [
    "## Conversation\n",
    "\n",
    "User: how to choose between overestimate or underestimate?\n",
    "\n",
    "Mathilda: When the direction is increasing and Left Riemann sum, it is Underestimation.\n",
    "When the direction is increasing and Right Riemann sum, it is Overestimation.\n",
    "When the direction is decreasing and Left Riemann sum, it is Overestimation.\n",
    "When the direction is decreasing and Right Riemann sum, it is Underestimation."
   ]
  },
  {
   "attachments": {},
   "cell_type": "markdown",
   "metadata": {},
   "source": [
    "## Conversation\n",
    "\n",
    "User: how to find the expressions in G(t)\n",
    "\n",
    "Mathilda: antiderivatives of dH/dt."
   ]
  },
  {
   "attachments": {},
   "cell_type": "markdown",
   "metadata": {},
   "source": [
    "## Conversation\n",
    "\n",
    "User: how to find the temperature part (c)\n",
    "\n",
    "Mathilda: substitute t with the time in G(t)"
   ]
  }
 ],
 "metadata": {
  "kernelspec": {
   "display_name": "Python 3.10.8 64-bit (microsoft store)",
   "language": "python",
   "name": "python3"
  },
  "language_info": {
   "name": "python",
   "version": "3.10.8"
  },
  "orig_nbformat": 4,
  "vscode": {
   "interpreter": {
    "hash": "7536d7b229462f4296d4c0dae49c3bd6cd3990c783d6b9d88ce3c31a78605890"
   }
  }
 },
 "nbformat": 4,
 "nbformat_minor": 2
}
