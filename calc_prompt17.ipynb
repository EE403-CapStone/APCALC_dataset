{
 "cells": [
  {
   "cell_type": "markdown",
   "metadata": {},
   "source": [
    "# metadata: \n",
    "- AP CALC AB\n",
    "- 2017\n",
    "- Q4\n",
    "\n",
    "# Prompt\n",
    "At time t = 0, a boiled potato is taken from a pot on a stove and left to cool in a kitchen. The internal temperature of the potato is 91 degrees Celsius (°C) at time t = 0, and the internal temperature of the potato is greater than 27 C° for all times t > 0. The internal temperature of the potato at time t minutes can be modeled by the function H that satisfies the differential equation dH/dt = -1/4*(H-27), where H(t) measured in degrees Celsius and H(0) = 91 .\n",
    "\n",
    "(a) Write an equation for the line tangent to the graph of H at t = 0. Use this equation to approximate the internal temperature of the potato at time t = 3.\n",
    "\n",
    "(b) Use to determine whether your answer in part (a) is an underestimate or an overestimate of the\n",
    "internal temperature of the potato at time t = 3.\n",
    "\n",
    "(c) For t < 10, an alternate model for the internal temperature of the potato at time t minutes is the function G that satisfies the differential equation dG/dt=-(G-27)^(2/3), where G(t) is measured in degrees Celsius and G(0) = 91. Find an expression for G(t). Based on this model, what is the internal temperature of the potato at time t = 3 ? \n"
   ]
  }
 ],
 "metadata": {
  "kernelspec": {
   "display_name": "Python 3.9.13 64-bit (microsoft store)",
   "language": "python",
   "name": "python3"
  },
  "language_info": {
   "name": "python",
   "version": "3.9.13"
  },
  "orig_nbformat": 4,
  "vscode": {
   "interpreter": {
    "hash": "260dee7956bb90417b93d15a48640bfb34c75f27c1c396b243529dc297b6d7ef"
   }
  }
 },
 "nbformat": 4,
 "nbformat_minor": 2
}
