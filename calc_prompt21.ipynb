{
 "cells": [
  {
   "cell_type": "markdown",
   "metadata": {},
   "source": [
    "# metadata: \n",
    "- AP CALC AB\n",
    "- 2016\n",
    "- Q4\n",
    "\n",
    "# Prompt\n",
    "\n",
    " Consider the differential equation\n",
    "2\n",
    "1\n",
    "dy y\n",
    "dx x \u0010 .\n",
    "(a) On the axes provided, sketch a slope field for the given differential equation at the six points indicated.\n",
    "(b) Let y f \u000bx\f be the particular solution to the given differential equation with the initial\n",
    "condition f \u000b2\f 3. Write an equation for the line tangent to the graph of y f x\u000b \f at x 2.\n",
    "Use your equation to approximate f\u000b2.1\f.\n",
    "(c) Find the particular solution y f \u000bx\f to the given differential equation with the initial condition f \u000b2\f 3."
   ]
  }
 ],
 "metadata": {
  "language_info": {
   "name": "python"
  },
  "orig_nbformat": 4
 },
 "nbformat": 4,
 "nbformat_minor": 2
}
