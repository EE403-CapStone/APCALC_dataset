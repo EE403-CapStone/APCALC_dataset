{
 "cells": [
  {
   "cell_type": "markdown",
   "metadata": {},
   "source": [
    "# metadata: \n",
    "- AP CALC AB\n",
    "- 2016\n",
    "- Q4\n",
    "\n",
    "# Prompt\n",
    "\n",
    "Consider the differential equation dy/dx = y^2/(x-1).\n",
    "\n",
    "(a) Let y=f(x) be the particular solution to the given differential equation with the initial\n",
    "condition f(2)=3. Write an equation for the line tangent to the graph of y=f(x) at x=2.\n",
    "Use your equation to approximate f(2.1).\n",
    "\n",
    "(b) Find the particular solution y=f(x) to the given differential equation with the initial condition f(2)=3."
   ]
  }
 ],
 "metadata": {
  "language_info": {
   "name": "python"
  },
  "orig_nbformat": 4
 },
 "nbformat": 4,
 "nbformat_minor": 2
}
