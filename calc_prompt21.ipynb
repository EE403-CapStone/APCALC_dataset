{
 "cells": [
  {
   "cell_type": "markdown",
   "metadata": {},
   "source": [
    "# metadata: \n",
    "- AP CALC AB\n",
    "- 2016\n",
    "- Q4\n",
    "\n",
    "# Prompt\n",
    "\n",
    "Consider the differential equation dy/dx = y^2/(x-1).\n",
    "\n",
    "(a) Let y=f(x) be the particular solution to the given differential equation with the initial\n",
    "condition f(2)=3. Write an equation for the line tangent to the graph of y=f(x) at x=2.\n",
    "Use your equation to approximate f(2.1).\n",
    "\n",
    "(b) Find the particular solution y=f(x) to the given differential equation with the initial condition f(2)=3."
   ]
  },
  {
   "attachments": {},
   "cell_type": "markdown",
   "metadata": {},
   "source": [
    "## Conversation\n",
    "\n",
    "User: how to get the equation of tangent line?\n",
    "\n",
    "Mathilda: first, use f(1) = 0 to get dy/dx, then use the function y=dy/dx(x-b) \n",
    "to get the equation."
   ]
  },
  {
   "attachments": {},
   "cell_type": "markdown",
   "metadata": {},
   "source": [
    "## Conversation\n",
    "\n",
    "User: how to do the approximation after I got the equation of tangent line?\n",
    "\n",
    "Mathilda: substitute x with 2.1, then compute y."
   ]
  },
  {
   "attachments": {},
   "cell_type": "markdown",
   "metadata": {},
   "source": [
    "## Conversation\n",
    "\n",
    "User: what are the steps to solve part(b)?\n",
    "\n",
    "Mathilda: First, separation of variables. Second, antiderivatives. third, use initial condition to get constant. fourth, substitute the constant to get the solution."
   ]
  },
  {
   "attachments": {},
   "cell_type": "markdown",
   "metadata": {},
   "source": [
    "## Conversation\n",
    "\n",
    "User: how to separate the variable in differential equation?\n",
    "\n",
    "Mathilda: First, move all the y terms to one side and all the x terms to the other side. Second, integrate one side with respect to y and the other side with respect to x."
   ]
  }
 ],
 "metadata": {
  "kernelspec": {
   "display_name": "Python 3.10.8 64-bit (microsoft store)",
   "language": "python",
   "name": "python3"
  },
  "language_info": {
   "name": "python",
   "version": "3.10.8"
  },
  "orig_nbformat": 4,
  "vscode": {
   "interpreter": {
    "hash": "7536d7b229462f4296d4c0dae49c3bd6cd3990c783d6b9d88ce3c31a78605890"
   }
  }
 },
 "nbformat": 4,
 "nbformat_minor": 2
}
